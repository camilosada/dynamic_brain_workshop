{
 "cells": [
  {
   "cell_type": "code",
   "execution_count": 1,
   "id": "9d9a18e0-771f-4eb1-8395-a355c005b514",
   "metadata": {
    "tags": []
   },
   "outputs": [],
   "source": [
    "# General imports \n",
    "import os \n",
    "import re\n",
    "import numpy as np\n",
    "import pandas as pd\n",
    "from pathlib import Path\n",
    "import scipy.stats as stats \n",
    "from skimage import measure\n",
    "import matplotlib.pyplot as plt\n",
    "\n",
    "# Pynwb imports\n",
    "from hdmf_zarr import NWBZarrIO\n",
    "from nwbwidgets import nwb2widget"
   ]
  },
  {
   "cell_type": "code",
   "execution_count": 2,
   "id": "64072f90-57e8-4c56-ae6c-775da553b574",
   "metadata": {
    "tags": []
   },
   "outputs": [
    {
     "name": "stdout",
     "output_type": "stream",
     "text": [
      "data directory set to /data/\n"
     ]
    }
   ],
   "source": [
    "# set data path\n",
    "import sys\n",
    "import platform\n",
    "from os.path import join as pjoin\n",
    "\n",
    "platstring = platform.platform()\n",
    "system = platform.system()\n",
    "if system == \"Darwin\":\n",
    "    # macOS\n",
    "    data_dir = \"/Volumes/Brain2025/\"\n",
    "elif system == \"Windows\":\n",
    "    # Windows (replace with the drive letter of USB drive)\n",
    "    data_dir = \"E:/\"\n",
    "elif \"amzn\" in platstring:\n",
    "    # then on CodeOcean\n",
    "    data_dir = \"/data/\"\n",
    "else:\n",
    "    # then your own linux platform\n",
    "    # EDIT location where you mounted hard drive\n",
    "    data_dir = \"/media/$USERNAME/Brain2025/\"\n",
    "    \n",
    "print('data directory set to', data_dir)"
   ]
  },
  {
   "cell_type": "code",
   "execution_count": 3,
   "id": "cd47b09e-4d4b-4fb0-88e1-6e7eb9cfa894",
   "metadata": {
    "tags": []
   },
   "outputs": [],
   "source": [
    "metadata = pd.read_csv(os.path.join(data_dir, 'bci_task_metadata', 'bci_metadata.csv'))"
   ]
  },
  {
   "cell_type": "code",
   "execution_count": 4,
   "id": "1ef409f8-155a-41bc-8a8b-65ac1325714a",
   "metadata": {
    "tags": []
   },
   "outputs": [],
   "source": [
    "for subject_id in np.sort(metadata['subject_id'].unique()):\n",
    "    this_mouse_metadata = metadata[metadata['subject_id'] == subject_id].sort_values(by='session_number')"
   ]
  },
  {
   "cell_type": "code",
   "execution_count": 5,
   "id": "4b425066-3c18-45a0-8966-3f946d54b67f",
   "metadata": {
    "tags": []
   },
   "outputs": [
    {
     "data": {
      "text/html": [
       "<div>\n",
       "<style scoped>\n",
       "    .dataframe tbody tr th:only-of-type {\n",
       "        vertical-align: middle;\n",
       "    }\n",
       "\n",
       "    .dataframe tbody tr th {\n",
       "        vertical-align: top;\n",
       "    }\n",
       "\n",
       "    .dataframe thead th {\n",
       "        text-align: right;\n",
       "    }\n",
       "</style>\n",
       "<table border=\"1\" class=\"dataframe\">\n",
       "  <thead>\n",
       "    <tr style=\"text-align: right;\">\n",
       "      <th></th>\n",
       "      <th>project_name</th>\n",
       "      <th>session_type</th>\n",
       "      <th>_id</th>\n",
       "      <th>name</th>\n",
       "      <th>subject_id</th>\n",
       "      <th>genotype</th>\n",
       "      <th>virus</th>\n",
       "      <th>date_of_birth</th>\n",
       "      <th>sex</th>\n",
       "      <th>modality</th>\n",
       "      <th>session_date</th>\n",
       "      <th>age</th>\n",
       "      <th>session_time</th>\n",
       "      <th>targeted_structure</th>\n",
       "      <th>ophys_fov</th>\n",
       "      <th>session_number</th>\n",
       "    </tr>\n",
       "  </thead>\n",
       "  <tbody>\n",
       "    <tr>\n",
       "      <th>2</th>\n",
       "      <td>Brain Computer Interface</td>\n",
       "      <td>BCI single neuron stim</td>\n",
       "      <td>580448b2-4b93-4477-b6ac-6e2972792fe0</td>\n",
       "      <td>single-plane-ophys_772414_2025-01-27_15-57-05_...</td>\n",
       "      <td>772414</td>\n",
       "      <td>Camk2a-tTA/wt;tetO-GCaMP6s/wt</td>\n",
       "      <td>pAAV-CaMKIIa-ChRmine-oScarlet-Kv2.1-WPRE - 7413</td>\n",
       "      <td>2024-10-15</td>\n",
       "      <td>Female</td>\n",
       "      <td>Planar optical physiology</td>\n",
       "      <td>2025-01-27</td>\n",
       "      <td>104</td>\n",
       "      <td>14:23:26.693000</td>\n",
       "      <td>Primary Motor Cortex</td>\n",
       "      <td>FOV_01</td>\n",
       "      <td>5.0</td>\n",
       "    </tr>\n",
       "    <tr>\n",
       "      <th>25</th>\n",
       "      <td>Brain Computer Interface</td>\n",
       "      <td>BCI single neuron stim</td>\n",
       "      <td>f9228e1c-3132-4979-a358-4c53f0ce9c62</td>\n",
       "      <td>single-plane-ophys_772414_2025-02-04_13-21-29_...</td>\n",
       "      <td>772414</td>\n",
       "      <td>Camk2a-tTA/wt;tetO-GCaMP6s/wt</td>\n",
       "      <td>pAAV-CaMKIIa-ChRmine-oScarlet-Kv2.1-WPRE - 7413</td>\n",
       "      <td>2024-10-15</td>\n",
       "      <td>Female</td>\n",
       "      <td>Planar optical physiology</td>\n",
       "      <td>2025-02-04</td>\n",
       "      <td>112</td>\n",
       "      <td>13:21:29.644999</td>\n",
       "      <td>Primary Motor Cortex</td>\n",
       "      <td>FOV_02</td>\n",
       "      <td>11.0</td>\n",
       "    </tr>\n",
       "    <tr>\n",
       "      <th>3</th>\n",
       "      <td>Brain Computer Interface</td>\n",
       "      <td>BCI single neuron stim</td>\n",
       "      <td>c1be8449-7bef-4967-88f5-6a6ffc29e5a3</td>\n",
       "      <td>single-plane-ophys_772414_2025-02-06_16-47-44_...</td>\n",
       "      <td>772414</td>\n",
       "      <td>Camk2a-tTA/wt;tetO-GCaMP6s/wt</td>\n",
       "      <td>pAAV-CaMKIIa-ChRmine-oScarlet-Kv2.1-WPRE - 7413</td>\n",
       "      <td>2024-10-15</td>\n",
       "      <td>Female</td>\n",
       "      <td>Planar optical physiology</td>\n",
       "      <td>2025-02-06</td>\n",
       "      <td>114</td>\n",
       "      <td>16:47:44.152999</td>\n",
       "      <td>Primary Motor Cortex</td>\n",
       "      <td>FOV_02</td>\n",
       "      <td>13.0</td>\n",
       "    </tr>\n",
       "    <tr>\n",
       "      <th>4</th>\n",
       "      <td>Brain Computer Interface</td>\n",
       "      <td>BCI single neuron stim</td>\n",
       "      <td>15b395c0-1caf-4be4-a212-a13b9a4d1dfc</td>\n",
       "      <td>single-plane-ophys_772414_2025-02-10_11-15-26_...</td>\n",
       "      <td>772414</td>\n",
       "      <td>Camk2a-tTA/wt;tetO-GCaMP6s/wt</td>\n",
       "      <td>pAAV-CaMKIIa-ChRmine-oScarlet-Kv2.1-WPRE - 7413</td>\n",
       "      <td>2024-10-15</td>\n",
       "      <td>Female</td>\n",
       "      <td>Planar optical physiology</td>\n",
       "      <td>2025-02-10</td>\n",
       "      <td>118</td>\n",
       "      <td>11:15:26.609999</td>\n",
       "      <td>Primary Motor Cortex</td>\n",
       "      <td>FOV_03</td>\n",
       "      <td>14.0</td>\n",
       "    </tr>\n",
       "  </tbody>\n",
       "</table>\n",
       "</div>"
      ],
      "text/plain": [
       "                project_name            session_type  \\\n",
       "2   Brain Computer Interface  BCI single neuron stim   \n",
       "25  Brain Computer Interface  BCI single neuron stim   \n",
       "3   Brain Computer Interface  BCI single neuron stim   \n",
       "4   Brain Computer Interface  BCI single neuron stim   \n",
       "\n",
       "                                     _id  \\\n",
       "2   580448b2-4b93-4477-b6ac-6e2972792fe0   \n",
       "25  f9228e1c-3132-4979-a358-4c53f0ce9c62   \n",
       "3   c1be8449-7bef-4967-88f5-6a6ffc29e5a3   \n",
       "4   15b395c0-1caf-4be4-a212-a13b9a4d1dfc   \n",
       "\n",
       "                                                 name  subject_id  \\\n",
       "2   single-plane-ophys_772414_2025-01-27_15-57-05_...      772414   \n",
       "25  single-plane-ophys_772414_2025-02-04_13-21-29_...      772414   \n",
       "3   single-plane-ophys_772414_2025-02-06_16-47-44_...      772414   \n",
       "4   single-plane-ophys_772414_2025-02-10_11-15-26_...      772414   \n",
       "\n",
       "                         genotype  \\\n",
       "2   Camk2a-tTA/wt;tetO-GCaMP6s/wt   \n",
       "25  Camk2a-tTA/wt;tetO-GCaMP6s/wt   \n",
       "3   Camk2a-tTA/wt;tetO-GCaMP6s/wt   \n",
       "4   Camk2a-tTA/wt;tetO-GCaMP6s/wt   \n",
       "\n",
       "                                              virus date_of_birth     sex  \\\n",
       "2   pAAV-CaMKIIa-ChRmine-oScarlet-Kv2.1-WPRE - 7413    2024-10-15  Female   \n",
       "25  pAAV-CaMKIIa-ChRmine-oScarlet-Kv2.1-WPRE - 7413    2024-10-15  Female   \n",
       "3   pAAV-CaMKIIa-ChRmine-oScarlet-Kv2.1-WPRE - 7413    2024-10-15  Female   \n",
       "4   pAAV-CaMKIIa-ChRmine-oScarlet-Kv2.1-WPRE - 7413    2024-10-15  Female   \n",
       "\n",
       "                     modality session_date  age     session_time  \\\n",
       "2   Planar optical physiology   2025-01-27  104  14:23:26.693000   \n",
       "25  Planar optical physiology   2025-02-04  112  13:21:29.644999   \n",
       "3   Planar optical physiology   2025-02-06  114  16:47:44.152999   \n",
       "4   Planar optical physiology   2025-02-10  118  11:15:26.609999   \n",
       "\n",
       "      targeted_structure ophys_fov  session_number  \n",
       "2   Primary Motor Cortex    FOV_01             5.0  \n",
       "25  Primary Motor Cortex    FOV_02            11.0  \n",
       "3   Primary Motor Cortex    FOV_02            13.0  \n",
       "4   Primary Motor Cortex    FOV_03            14.0  "
      ]
     },
     "execution_count": 5,
     "metadata": {},
     "output_type": "execute_result"
    }
   ],
   "source": [
    "this_mouse_metadata"
   ]
  },
  {
   "cell_type": "code",
   "execution_count": 68,
   "id": "b6334ea0-50d0-4f16-b8a1-a51d00fad5d7",
   "metadata": {
    "tags": []
   },
   "outputs": [
    {
     "name": "stdout",
     "output_type": "stream",
     "text": [
      "/data/brain-computer-interface\n",
      "/data/brain-computer-interface/single-plane-ophys_772414_2025-02-10_11-15-26_processed_2025-08-04_23-06-21\n",
      "/data/brain-computer-interface/single-plane-ophys_772414_2025-02-10_11-15-26_processed_2025-08-04_23-06-21/single-plane-ophys_772414_2025-02-10_11-15-26_behavior_nwb\n"
     ]
    },
    {
     "name": "stderr",
     "output_type": "stream",
     "text": [
      "/opt/conda/lib/python3.10/site-packages/hdmf/spec/namespace.py:535: UserWarning: Ignoring cached namespace 'core' version 2.7.0 because version 2.8.0 is already loaded.\n",
      "  warn(\"Ignoring cached namespace '%s' version %s because version %s is already loaded.\"\n"
     ]
    },
    {
     "name": "stdout",
     "output_type": "stream",
     "text": [
      "Loaded NWB file from: /data/brain-computer-interface/single-plane-ophys_772414_2025-02-10_11-15-26_processed_2025-08-04_23-06-21/single-plane-ophys_772414_2025-02-10_11-15-26_behavior_nwb\n"
     ]
    }
   ],
   "source": [
    "# Get the directory for this dataset and load it\n",
    "bci_data_dir = os.path.join(data_dir, 'brain-computer-interface')\n",
    "print(bci_data_dir)\n",
    "# Get the data folder for this session\n",
    "session_dir = os.path.join(bci_data_dir, session_name)\n",
    "print(session_dir)\n",
    "# Now find the NWB file and set the path to load it\n",
    "nwb_file = [file for file in os.listdir(session_dir) if 'nwb' in file][0]\n",
    "nwb_path = os.path.join(session_dir, nwb_file)\n",
    "print(nwb_path)\n",
    "# Load the data\n",
    "# # io = NWBZarrIO(nwb_path, mode = 'r') \n",
    "# # nwbfile_zarr = io.read()\n",
    "with NWBZarrIO(str(nwb_path), 'r') as io:\n",
    "    nwbfile = io.read()\n",
    "    print('Loaded NWB file from:', nwb_path)"
   ]
  },
  {
   "cell_type": "code",
   "execution_count": 62,
   "id": "6b0f6f61-4a0d-4e2f-8203-4d01703ff233",
   "metadata": {
    "tags": []
   },
   "outputs": [
    {
     "data": {
      "text/html": [
       "<div>\n",
       "<style scoped>\n",
       "    .dataframe tbody tr th:only-of-type {\n",
       "        vertical-align: middle;\n",
       "    }\n",
       "\n",
       "    .dataframe tbody tr th {\n",
       "        vertical-align: top;\n",
       "    }\n",
       "\n",
       "    .dataframe thead th {\n",
       "        text-align: right;\n",
       "    }\n",
       "</style>\n",
       "<table border=\"1\" class=\"dataframe\">\n",
       "  <thead>\n",
       "    <tr style=\"text-align: right;\">\n",
       "      <th></th>\n",
       "      <th>stimulus_name</th>\n",
       "      <th>start_frame</th>\n",
       "      <th>stop_frame</th>\n",
       "      <th>start_time</th>\n",
       "      <th>stop_time</th>\n",
       "    </tr>\n",
       "    <tr>\n",
       "      <th>id</th>\n",
       "      <th></th>\n",
       "      <th></th>\n",
       "      <th></th>\n",
       "      <th></th>\n",
       "      <th></th>\n",
       "    </tr>\n",
       "  </thead>\n",
       "  <tbody>\n",
       "    <tr>\n",
       "      <th>0</th>\n",
       "      <td>photostim</td>\n",
       "      <td>0</td>\n",
       "      <td>34651</td>\n",
       "      <td>0.000000</td>\n",
       "      <td>1154.475337</td>\n",
       "    </tr>\n",
       "    <tr>\n",
       "      <th>1</th>\n",
       "      <td>spont</td>\n",
       "      <td>34652</td>\n",
       "      <td>43019</td>\n",
       "      <td>1154.508654</td>\n",
       "      <td>1433.273918</td>\n",
       "    </tr>\n",
       "    <tr>\n",
       "      <th>2</th>\n",
       "      <td>BCI</td>\n",
       "      <td>43020</td>\n",
       "      <td>89945</td>\n",
       "      <td>1433.307235</td>\n",
       "      <td>2996.718253</td>\n",
       "    </tr>\n",
       "    <tr>\n",
       "      <th>3</th>\n",
       "      <td>spont_post</td>\n",
       "      <td>89946</td>\n",
       "      <td>95945</td>\n",
       "      <td>2996.751570</td>\n",
       "      <td>3196.621633</td>\n",
       "    </tr>\n",
       "    <tr>\n",
       "      <th>4</th>\n",
       "      <td>photostim_post</td>\n",
       "      <td>95946</td>\n",
       "      <td>131522</td>\n",
       "      <td>3196.654950</td>\n",
       "      <td>4381.948725</td>\n",
       "    </tr>\n",
       "  </tbody>\n",
       "</table>\n",
       "</div>"
      ],
      "text/plain": [
       "     stimulus_name  start_frame  stop_frame   start_time    stop_time\n",
       "id                                                                   \n",
       "0        photostim            0       34651     0.000000  1154.475337\n",
       "1            spont        34652       43019  1154.508654  1433.273918\n",
       "2              BCI        43020       89945  1433.307235  2996.718253\n",
       "3       spont_post        89946       95945  2996.751570  3196.621633\n",
       "4   photostim_post        95946      131522  3196.654950  4381.948725"
      ]
     },
     "execution_count": 62,
     "metadata": {},
     "output_type": "execute_result"
    }
   ],
   "source": [
    "epoch_table = nwbfile.intervals[\"epochs\"].to_dataframe()\n",
    "epoch_table"
   ]
  },
  {
   "cell_type": "code",
   "execution_count": null,
   "id": "7d7f0950-4589-4040-9b6f-55799d5db5dc",
   "metadata": {},
   "outputs": [],
   "source": []
  },
  {
   "cell_type": "code",
   "execution_count": null,
   "id": "e917c601-0509-4c03-9d70-2068e0e9485a",
   "metadata": {},
   "outputs": [],
   "source": []
  },
  {
   "cell_type": "code",
   "execution_count": null,
   "id": "e4c6ad0f-8ccc-486a-930d-a9cfb77dc3d4",
   "metadata": {},
   "outputs": [],
   "source": []
  },
  {
   "cell_type": "code",
   "execution_count": null,
   "id": "760fb3c4-eb56-4df7-a152-101db5145536",
   "metadata": {},
   "outputs": [],
   "source": []
  },
  {
   "cell_type": "code",
   "execution_count": null,
   "id": "f48391b0-fb53-4f1f-8f31-075c7a8015cb",
   "metadata": {},
   "outputs": [],
   "source": []
  },
  {
   "cell_type": "code",
   "execution_count": null,
   "id": "e77d4de9-c454-4321-9793-a5904e8cb95a",
   "metadata": {},
   "outputs": [],
   "source": []
  },
  {
   "cell_type": "code",
   "execution_count": null,
   "id": "e77b2cba-e891-4ed3-94f3-bb4e12508f2f",
   "metadata": {},
   "outputs": [],
   "source": []
  },
  {
   "cell_type": "code",
   "execution_count": null,
   "id": "29c6d668-185d-4a7f-ad17-b02b06311d70",
   "metadata": {},
   "outputs": [],
   "source": []
  },
  {
   "cell_type": "code",
   "execution_count": null,
   "id": "f4c1aad4-7438-45f6-b181-38f08c30c986",
   "metadata": {},
   "outputs": [],
   "source": []
  },
  {
   "cell_type": "code",
   "execution_count": null,
   "id": "ac557913-7fbd-452c-ba4b-a364c2ecd2a8",
   "metadata": {},
   "outputs": [],
   "source": []
  },
  {
   "cell_type": "code",
   "execution_count": null,
   "id": "60470f79-25a8-4eac-b7ff-839a6af14f18",
   "metadata": {},
   "outputs": [],
   "source": []
  },
  {
   "cell_type": "code",
   "execution_count": null,
   "id": "a77e7ed1-5875-41cb-ae80-086079796f1c",
   "metadata": {},
   "outputs": [],
   "source": []
  },
  {
   "cell_type": "code",
   "execution_count": null,
   "id": "bbc8f702-3b81-4ed2-aa3a-230d24475cd2",
   "metadata": {},
   "outputs": [],
   "source": []
  },
  {
   "cell_type": "code",
   "execution_count": 63,
   "id": "e4cdfd2a-199c-43b6-acf4-425c6424b44b",
   "metadata": {
    "tags": []
   },
   "outputs": [
    {
     "name": "stdout",
     "output_type": "stream",
     "text": [
      "Failed to load /your/data/772414/single-plane-ophys_772414_2025-01-27_15-57-05_processed_2025-08-12_02-31-55/epoch_table.csv: argument of type 'method' is not iterable\n",
      "Failed to load /your/data/772414/single-plane-ophys_772414_2025-02-04_13-21-29_processed_2025-08-12_06-14-42/epoch_table.csv: argument of type 'method' is not iterable\n",
      "Failed to load /your/data/772414/single-plane-ophys_772414_2025-02-06_16-47-44_processed_2025-08-06_18-52-14/epoch_table.csv: argument of type 'method' is not iterable\n",
      "Failed to load /your/data/772414/single-plane-ophys_772414_2025-02-10_11-15-26_processed_2025-08-04_23-06-21/epoch_table.csv: argument of type 'method' is not iterable\n"
     ]
    }
   ],
   "source": [
    "valid_mice = []\n",
    "\n",
    "# Get all unique mouse IDs\n",
    "for mouse_id in this_mouse_metadata['subject_id'].unique():\n",
    "    \n",
    "    # Get all sessions for this mouse\n",
    "    mouse_sessions = this_mouse_metadata[this_mouse_metadata['subject_id'] == mouse_id]\n",
    "    session_numbers = mouse_sessions['session_number'].values\n",
    "    session_names = mouse_sessions['name'].values  # or your session folder name column\n",
    "\n",
    "    session_results = []\n",
    "\n",
    "    # Loop through each session\n",
    "    for session_name, session_number in zip(session_names, session_numbers):\n",
    "        epoch_path = f\"/your/data/{mouse_id}/{session_name}/epoch_table.csv\"\n",
    "        \n",
    "        try:\n",
    "            epoch_table = pd.read_csv(epoch_table)\n",
    "            is_valid = has_valid_photostim_structure(epoch_table)\n",
    "        except Exception as e:\n",
    "            print(f\"Failed to load {epoch_path}: {e}\")\n",
    "            is_valid = False\n",
    "\n",
    "        session_results.append((session_name, is_valid))\n",
    "\n",
    "    valid_sessions = [s for s, ok in session_results if ok]\n",
    "\n",
    "    if len(valid_sessions) > 0:\n",
    "        valid_mice.append({\n",
    "            'subject_id': mouse_id,\n",
    "            'n_sessions': len(session_names),\n",
    "            'valid_sessions': valid_sessions\n",
    "        })\n"
   ]
  },
  {
   "cell_type": "code",
   "execution_count": null,
   "id": "0ae5e74d-bdd3-49e3-bb86-a333acc7b2c9",
   "metadata": {},
   "outputs": [],
   "source": []
  },
  {
   "cell_type": "code",
   "execution_count": null,
   "id": "bfa7d3cc-4749-4399-a3f9-b91b5aef66cc",
   "metadata": {},
   "outputs": [],
   "source": []
  },
  {
   "cell_type": "code",
   "execution_count": null,
   "id": "4694b5b1-03d9-41b9-af3f-dc4cc1ef9be3",
   "metadata": {},
   "outputs": [],
   "source": []
  },
  {
   "cell_type": "code",
   "execution_count": null,
   "id": "01c71bb2-fbe1-4d94-94a2-ada8bc6df944",
   "metadata": {},
   "outputs": [],
   "source": []
  },
  {
   "cell_type": "code",
   "execution_count": null,
   "id": "f1906e02-bf6e-48e6-86b7-9448ea501333",
   "metadata": {},
   "outputs": [],
   "source": []
  },
  {
   "cell_type": "code",
   "execution_count": null,
   "id": "e93788f6-f6ef-4bd8-b119-b395a560d303",
   "metadata": {},
   "outputs": [],
   "source": []
  }
 ],
 "metadata": {
  "kernelspec": {
   "display_name": "Python 3 (ipykernel)",
   "language": "python",
   "name": "python3"
  },
  "language_info": {
   "codemirror_mode": {
    "name": "ipython",
    "version": 3
   },
   "file_extension": ".py",
   "mimetype": "text/x-python",
   "name": "python",
   "nbconvert_exporter": "python",
   "pygments_lexer": "ipython3",
   "version": "3.10.12"
  }
 },
 "nbformat": 4,
 "nbformat_minor": 5
}
