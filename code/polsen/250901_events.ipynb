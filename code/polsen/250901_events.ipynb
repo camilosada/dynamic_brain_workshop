{
 "cells": [
  {
   "cell_type": "code",
   "execution_count": 1,
   "id": "c1ed8182-10c2-4f4a-b3f0-671eef65c76d",
   "metadata": {
    "tags": []
   },
   "outputs": [],
   "source": [
    "# General imports \n",
    "import os \n",
    "import re\n",
    "import sys\n",
    "import numpy as np\n",
    "import pandas as pd\n",
    "from pathlib import Path\n",
    "import scipy.stats as stats \n",
    "from skimage import measure\n",
    "import matplotlib.pyplot as plt\n",
    "import json\n",
    "import zarr\n",
    "\n",
    "# Pynwb imports\n",
    "from hdmf_zarr import NWBZarrIO\n",
    "from nwbwidgets import nwb2widget\n",
    "\n",
    "# set paths\n",
    "sys.path.insert(0, '/code/src')\n",
    "data_dir = '/data'\n",
    "\n",
    "# package imports\n",
    "from bci.loaders import load\n",
    "from bci.thresholds.thresholds import align_thresholds\n",
    "from bci.processing import processing"
   ]
  },
  {
   "cell_type": "code",
   "execution_count": 10,
   "id": "c99460e3-dd84-441a-8c14-4efa696d6a90",
   "metadata": {
    "tags": []
   },
   "outputs": [],
   "source": [
    "# read in metadata\n",
    "metadata = load.load_filtered_metadata()\n",
    "subject_ids = np.sort(metadata['subject_id'].unique())"
   ]
  },
  {
   "cell_type": "code",
   "execution_count": 12,
   "id": "5c745d18-e51b-4a3b-b427-d90a8c14a02e",
   "metadata": {
    "tags": []
   },
   "outputs": [
    {
     "name": "stdout",
     "output_type": "stream",
     "text": [
      "BCI data directory: /data/brain-computer-interface\n",
      "\n",
      "Session directory: /data/brain-computer-interface/single-plane-ophys_767715_2025-01-31_18-15-21_processed_2025-08-06_07-02-58\n",
      "\n",
      "NWB file: single-plane-ophys_767715_2025-01-31_18-15-21_behavior_nwb\n",
      "NWB path: /data/brain-computer-interface/single-plane-ophys_767715_2025-01-31_18-15-21_processed_2025-08-06_07-02-58/single-plane-ophys_767715_2025-01-31_18-15-21_behavior_nwb\n"
     ]
    },
    {
     "name": "stderr",
     "output_type": "stream",
     "text": [
      "/opt/conda/lib/python3.10/site-packages/hdmf/spec/namespace.py:535: UserWarning: Ignoring cached namespace 'core' version 2.7.0 because version 2.8.0 is already loaded.\n",
      "  warn(\"Ignoring cached namespace '%s' version %s because version %s is already loaded.\"\n"
     ]
    },
    {
     "name": "stdout",
     "output_type": "stream",
     "text": [
      "All threshold files for mouse 767715: ['single-plane-ophys_767715_2025-02-10', 'single-plane-ophys_767715_2025-02-03', 'single-plane-ophys_767715_2025-01-31', 'single-plane-ophys_767715_2025-02-06', 'single-plane-ophys_767715_2025-02-17', 'single-plane-ophys_767715_2025-02-13']\n",
      "\n",
      "Found threshold file at: /data/bci-thresholds/single-plane-ophys_767715_2025-01-31\n",
      "total difference in dataframes: 8\n"
     ]
    }
   ],
   "source": [
    "sesh = 'single-plane-ophys_767715_2025-01-31_18-15-21_processed_2025-08-06_07-02-58'\n",
    "data = load.load_session_data(sesh)"
   ]
  },
  {
   "cell_type": "code",
   "execution_count": 16,
   "id": "fa07ef6f-c06e-47c7-b9a4-9bc30063750e",
   "metadata": {
    "tags": []
   },
   "outputs": [],
   "source": [
    "def convert_roi_index(roi: int, valid_rois: pd.DataFrame):\n",
    "    \"\"\"\n",
    "    Takes a target ROI index and returns new index for given mapping\n",
    "    \n",
    "    Parameters\n",
    "    ----------\n",
    "    roi : int\n",
    "        ROI to get index for\n",
    "    valid_rois : pd.DataFrame\n",
    "        Table including original ROI indices\n",
    "        \n",
    "    Returns\n",
    "    -------\n",
    "    int\n",
    "        new ROI index\n",
    "    \"\"\"\n",
    "    roi_original_idx = valid_rois.reset_index()['id']\n",
    "    return roi_original_idx[roi_original_idx==roi].index[0]\n",
    "    "
   ]
  },
  {
   "cell_type": "code",
   "execution_count": 30,
   "id": "7cd3ac08-5345-4938-94db-c2854d57e618",
   "metadata": {
    "tags": []
   },
   "outputs": [
    {
     "name": "stdout",
     "output_type": "stream",
     "text": [
      "CN: [12]\n"
     ]
    }
   ],
   "source": [
    "data['bci_trials'] = processing.correct_bci_trials(data['bci_trials'])\n",
    "data['bci_trials'] = processing.get_valid_bci_trials(data['bci_trials'])\n",
    "epoch_data = processing.get_bci_epoch_data(data)\n",
    "valid_rois, cn_index = processing.filter_somas(data)\n",
    "dff_bci = processing.get_valid_bci_traces(epoch_data['dff_bci'], valid_rois)\n",
    "\n",
    "dff_smooth = processing.smooth_dff(dff_bci)\n",
    "\n",
    "dff_by_trial = processing.get_dff_by_trial(dff_smooth, data, epoch_data)\n",
    "\n",
    "new_index = convert_roi_index(cn_index, valid_rois)\n",
    "max_dff = np.nanmean(dff_by_trial, axis=2)\n",
    "cn_max = max_dff[new_index, :]\n",
    "\n",
    "index_change_thresh = np.insert(np.where(np.insert(np.diff(data['thresholds']['high']), 0, 0,)), 0, 0)\n",
    "index_change_thresh = np.append(index_change_thresh, len(data['bci_trials']))\n"
   ]
  },
  {
   "cell_type": "code",
   "execution_count": 32,
   "id": "b48af65a-253a-48e8-938c-b355a20c9bd0",
   "metadata": {
    "tags": []
   },
   "outputs": [],
   "source": [
    "max_dff = np.nanmax(dff_by_trial, axis=2)\n",
    "cn_max = max_dff[new_index, :]\n",
    "mean_dff = np.nanmean(dff_by_trial, axis=2)\n",
    "cn_mean = mean_dff[new_index, :]"
   ]
  },
  {
   "cell_type": "code",
   "execution_count": 43,
   "id": "869d0fde-b7b6-4df0-ac01-c88d217c6837",
   "metadata": {
    "tags": []
   },
   "outputs": [],
   "source": [
    "from scipy.integrate import trapezoid"
   ]
  },
  {
   "cell_type": "code",
   "execution_count": null,
   "id": "3256d05a-bfb7-4ff7-8f9a-c19ee2f926e9",
   "metadata": {
    "tags": []
   },
   "outputs": [
    {
     "name": "stdout",
     "output_type": "stream",
     "text": [
      "mouse: 772414\n",
      "session: single-plane-ophys_772414_2025-02-10_11-15-26_processed_2025-08-04_23-06-21\n"
     ]
    }
   ],
   "source": [
    "# select mouse, session\n",
    "mouse = 772414\n",
    "mouse_md = metadata[metadata['subject_id'] == mouse].sort_values(by='session_number')\n",
    "sesh = mouse_md['name'].values[-1]\n",
    "print(f'mouse: {mouse}')\n",
    "print(f'session: {sesh}') "
   ]
  }
 ],
 "metadata": {
  "kernelspec": {
   "display_name": "Python 3 (ipykernel)",
   "language": "python",
   "name": "python3"
  },
  "language_info": {
   "codemirror_mode": {
    "name": "ipython",
    "version": 3
   },
   "file_extension": ".py",
   "mimetype": "text/x-python",
   "name": "python",
   "nbconvert_exporter": "python",
   "pygments_lexer": "ipython3",
   "version": "3.10.12"
  }
 },
 "nbformat": 4,
 "nbformat_minor": 5
}
