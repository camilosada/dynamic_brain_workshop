{
 "cells": [
  {
   "cell_type": "code",
   "execution_count": 1,
   "id": "8729c758",
   "metadata": {},
   "outputs": [],
   "source": [
    "# General imports \n",
    "import os \n",
    "import re\n",
    "import sys\n",
    "import numpy as np\n",
    "import pandas as pd\n",
    "from pathlib import Path\n",
    "import scipy.stats as stats \n",
    "from skimage import measure\n",
    "import matplotlib.pyplot as plt\n",
    "import json\n",
    "import zarr\n",
    "\n",
    "# Pynwb imports\n",
    "from hdmf_zarr import NWBZarrIO\n",
    "from nwbwidgets import nwb2widget\n",
    "\n",
    "# set paths\n",
    "sys.path.insert(0, '/code/src')\n",
    "data_dir = '/data'\n",
    "\n",
    "# package imports\n",
    "from bci.loaders import load\n",
    "from bci.thresholds.thresholds import align_thresholds\n",
    "from bci.processing import processing\n",
    "from bci.trials.align import indep_roll\n",
    "from scipy import ndimage\n",
    "from sklearn.model_selection import cross_validate"
   ]
  },
  {
   "cell_type": "code",
   "execution_count": null,
   "id": "ffe2d746",
   "metadata": {},
   "outputs": [],
   "source": []
  },
  {
   "cell_type": "code",
   "execution_count": null,
   "id": "31e3170a",
   "metadata": {},
   "outputs": [],
   "source": []
  },
  {
   "cell_type": "code",
   "execution_count": 2,
   "id": "834e2e0d",
   "metadata": {},
   "outputs": [
    {
     "data": {
      "text/html": [
       "<div>\n",
       "<style scoped>\n",
       "    .dataframe tbody tr th:only-of-type {\n",
       "        vertical-align: middle;\n",
       "    }\n",
       "\n",
       "    .dataframe tbody tr th {\n",
       "        vertical-align: top;\n",
       "    }\n",
       "\n",
       "    .dataframe thead th {\n",
       "        text-align: right;\n",
       "    }\n",
       "</style>\n",
       "<table border=\"1\" class=\"dataframe\">\n",
       "  <thead>\n",
       "    <tr style=\"text-align: right;\">\n",
       "      <th></th>\n",
       "      <th>project_name</th>\n",
       "      <th>session_type</th>\n",
       "      <th>_id</th>\n",
       "      <th>name</th>\n",
       "      <th>subject_id</th>\n",
       "      <th>genotype</th>\n",
       "      <th>virus</th>\n",
       "      <th>date_of_birth</th>\n",
       "      <th>sex</th>\n",
       "      <th>modality</th>\n",
       "      <th>session_date</th>\n",
       "      <th>age</th>\n",
       "      <th>session_time</th>\n",
       "      <th>targeted_structure</th>\n",
       "      <th>ophys_fov</th>\n",
       "      <th>session_number</th>\n",
       "    </tr>\n",
       "  </thead>\n",
       "  <tbody>\n",
       "    <tr>\n",
       "      <th>14</th>\n",
       "      <td>Brain Computer Interface</td>\n",
       "      <td>BCI single neuron stim</td>\n",
       "      <td>3aac9323-c4f9-4172-9f1a-6c12cb3bc44e</td>\n",
       "      <td>single-plane-ophys_754303_2025-01-22_18-22-38_...</td>\n",
       "      <td>754303</td>\n",
       "      <td>Camk2a-tTA/wt;TetO-jGCaMP8s-01/wt</td>\n",
       "      <td>pAAV-CaMKIIa-ChRmine-oScarlet-Kv2.1-WPRE - 7413</td>\n",
       "      <td>2024-07-17</td>\n",
       "      <td>Male</td>\n",
       "      <td>Planar optical physiology</td>\n",
       "      <td>2025-01-22</td>\n",
       "      <td>189</td>\n",
       "      <td>16:59:35.618000</td>\n",
       "      <td>Primary Motor Cortex</td>\n",
       "      <td>FOV_01</td>\n",
       "      <td>2.0</td>\n",
       "    </tr>\n",
       "    <tr>\n",
       "      <th>16</th>\n",
       "      <td>Brain Computer Interface</td>\n",
       "      <td>BCI single neuron stim</td>\n",
       "      <td>aaf560f4-bb1f-449a-aaf9-5054432b47ae</td>\n",
       "      <td>single-plane-ophys_754303_2025-01-23_19-48-32_...</td>\n",
       "      <td>754303</td>\n",
       "      <td>Camk2a-tTA/wt;TetO-jGCaMP8s-01/wt</td>\n",
       "      <td>pAAV-CaMKIIa-ChRmine-oScarlet-Kv2.1-WPRE - 7413</td>\n",
       "      <td>2024-07-17</td>\n",
       "      <td>Male</td>\n",
       "      <td>Planar optical physiology</td>\n",
       "      <td>2025-01-23</td>\n",
       "      <td>190</td>\n",
       "      <td>18:36:30.521000</td>\n",
       "      <td>Primary Motor Cortex</td>\n",
       "      <td>FOV_01</td>\n",
       "      <td>3.0</td>\n",
       "    </tr>\n",
       "    <tr>\n",
       "      <th>15</th>\n",
       "      <td>Brain Computer Interface</td>\n",
       "      <td>BCI single neuron stim</td>\n",
       "      <td>7efb85e4-0dba-43fe-a0fd-2b8348e05b69</td>\n",
       "      <td>single-plane-ophys_754303_2025-01-27_20-01-31_...</td>\n",
       "      <td>754303</td>\n",
       "      <td>Camk2a-tTA/wt;TetO-jGCaMP8s-01/wt</td>\n",
       "      <td>pAAV-CaMKIIa-ChRmine-oScarlet-Kv2.1-WPRE - 7413</td>\n",
       "      <td>2024-07-17</td>\n",
       "      <td>Male</td>\n",
       "      <td>Planar optical physiology</td>\n",
       "      <td>2025-01-27</td>\n",
       "      <td>194</td>\n",
       "      <td>18:46:54.109999</td>\n",
       "      <td>Primary Motor Cortex</td>\n",
       "      <td>FOV_01</td>\n",
       "      <td>5.0</td>\n",
       "    </tr>\n",
       "    <tr>\n",
       "      <th>17</th>\n",
       "      <td>Brain Computer Interface</td>\n",
       "      <td>BCI single neuron stim</td>\n",
       "      <td>5fa54429-8887-48b7-a3db-5526d7fa3fe5</td>\n",
       "      <td>single-plane-ophys_754303_2025-01-29_16-07-41_...</td>\n",
       "      <td>754303</td>\n",
       "      <td>Camk2a-tTA/wt;TetO-jGCaMP8s-01/wt</td>\n",
       "      <td>pAAV-CaMKIIa-ChRmine-oScarlet-Kv2.1-WPRE - 7413</td>\n",
       "      <td>2024-07-17</td>\n",
       "      <td>Male</td>\n",
       "      <td>Planar optical physiology</td>\n",
       "      <td>2025-01-29</td>\n",
       "      <td>196</td>\n",
       "      <td>16:07:41.655000</td>\n",
       "      <td>Primary Motor Cortex</td>\n",
       "      <td>FOV_01</td>\n",
       "      <td>6.0</td>\n",
       "    </tr>\n",
       "    <tr>\n",
       "      <th>18</th>\n",
       "      <td>Brain Computer Interface</td>\n",
       "      <td>BCI single neuron stim</td>\n",
       "      <td>737557e6-4bb3-423f-8fae-a2a63ee600e7</td>\n",
       "      <td>single-plane-ophys_754303_2025-01-31_15-13-50_...</td>\n",
       "      <td>754303</td>\n",
       "      <td>Camk2a-tTA/wt;TetO-jGCaMP8s-01/wt</td>\n",
       "      <td>pAAV-CaMKIIa-ChRmine-oScarlet-Kv2.1-WPRE - 7413</td>\n",
       "      <td>2024-07-17</td>\n",
       "      <td>Male</td>\n",
       "      <td>Planar optical physiology</td>\n",
       "      <td>2025-01-31</td>\n",
       "      <td>198</td>\n",
       "      <td>15:13:50.595999</td>\n",
       "      <td>Primary Motor Cortex</td>\n",
       "      <td>FOV_01</td>\n",
       "      <td>8.0</td>\n",
       "    </tr>\n",
       "    <tr>\n",
       "      <th>19</th>\n",
       "      <td>Brain Computer Interface</td>\n",
       "      <td>BCI single neuron stim</td>\n",
       "      <td>02859cbf-4099-4508-a2d1-6bad82ffcebb</td>\n",
       "      <td>single-plane-ophys_754303_2025-02-03_15-24-22_...</td>\n",
       "      <td>754303</td>\n",
       "      <td>Camk2a-tTA/wt;TetO-jGCaMP8s-01/wt</td>\n",
       "      <td>pAAV-CaMKIIa-ChRmine-oScarlet-Kv2.1-WPRE - 7413</td>\n",
       "      <td>2024-07-17</td>\n",
       "      <td>Male</td>\n",
       "      <td>Planar optical physiology</td>\n",
       "      <td>2025-02-03</td>\n",
       "      <td>201</td>\n",
       "      <td>15:24:22.163000</td>\n",
       "      <td>Primary Motor Cortex</td>\n",
       "      <td>FOV_02</td>\n",
       "      <td>9.0</td>\n",
       "    </tr>\n",
       "  </tbody>\n",
       "</table>\n",
       "</div>"
      ],
      "text/plain": [
       "                project_name            session_type  \\\n",
       "14  Brain Computer Interface  BCI single neuron stim   \n",
       "16  Brain Computer Interface  BCI single neuron stim   \n",
       "15  Brain Computer Interface  BCI single neuron stim   \n",
       "17  Brain Computer Interface  BCI single neuron stim   \n",
       "18  Brain Computer Interface  BCI single neuron stim   \n",
       "19  Brain Computer Interface  BCI single neuron stim   \n",
       "\n",
       "                                     _id  \\\n",
       "14  3aac9323-c4f9-4172-9f1a-6c12cb3bc44e   \n",
       "16  aaf560f4-bb1f-449a-aaf9-5054432b47ae   \n",
       "15  7efb85e4-0dba-43fe-a0fd-2b8348e05b69   \n",
       "17  5fa54429-8887-48b7-a3db-5526d7fa3fe5   \n",
       "18  737557e6-4bb3-423f-8fae-a2a63ee600e7   \n",
       "19  02859cbf-4099-4508-a2d1-6bad82ffcebb   \n",
       "\n",
       "                                                 name  subject_id  \\\n",
       "14  single-plane-ophys_754303_2025-01-22_18-22-38_...      754303   \n",
       "16  single-plane-ophys_754303_2025-01-23_19-48-32_...      754303   \n",
       "15  single-plane-ophys_754303_2025-01-27_20-01-31_...      754303   \n",
       "17  single-plane-ophys_754303_2025-01-29_16-07-41_...      754303   \n",
       "18  single-plane-ophys_754303_2025-01-31_15-13-50_...      754303   \n",
       "19  single-plane-ophys_754303_2025-02-03_15-24-22_...      754303   \n",
       "\n",
       "                             genotype  \\\n",
       "14  Camk2a-tTA/wt;TetO-jGCaMP8s-01/wt   \n",
       "16  Camk2a-tTA/wt;TetO-jGCaMP8s-01/wt   \n",
       "15  Camk2a-tTA/wt;TetO-jGCaMP8s-01/wt   \n",
       "17  Camk2a-tTA/wt;TetO-jGCaMP8s-01/wt   \n",
       "18  Camk2a-tTA/wt;TetO-jGCaMP8s-01/wt   \n",
       "19  Camk2a-tTA/wt;TetO-jGCaMP8s-01/wt   \n",
       "\n",
       "                                              virus date_of_birth   sex  \\\n",
       "14  pAAV-CaMKIIa-ChRmine-oScarlet-Kv2.1-WPRE - 7413    2024-07-17  Male   \n",
       "16  pAAV-CaMKIIa-ChRmine-oScarlet-Kv2.1-WPRE - 7413    2024-07-17  Male   \n",
       "15  pAAV-CaMKIIa-ChRmine-oScarlet-Kv2.1-WPRE - 7413    2024-07-17  Male   \n",
       "17  pAAV-CaMKIIa-ChRmine-oScarlet-Kv2.1-WPRE - 7413    2024-07-17  Male   \n",
       "18  pAAV-CaMKIIa-ChRmine-oScarlet-Kv2.1-WPRE - 7413    2024-07-17  Male   \n",
       "19  pAAV-CaMKIIa-ChRmine-oScarlet-Kv2.1-WPRE - 7413    2024-07-17  Male   \n",
       "\n",
       "                     modality session_date  age     session_time  \\\n",
       "14  Planar optical physiology   2025-01-22  189  16:59:35.618000   \n",
       "16  Planar optical physiology   2025-01-23  190  18:36:30.521000   \n",
       "15  Planar optical physiology   2025-01-27  194  18:46:54.109999   \n",
       "17  Planar optical physiology   2025-01-29  196  16:07:41.655000   \n",
       "18  Planar optical physiology   2025-01-31  198  15:13:50.595999   \n",
       "19  Planar optical physiology   2025-02-03  201  15:24:22.163000   \n",
       "\n",
       "      targeted_structure ophys_fov  session_number  \n",
       "14  Primary Motor Cortex    FOV_01             2.0  \n",
       "16  Primary Motor Cortex    FOV_01             3.0  \n",
       "15  Primary Motor Cortex    FOV_01             5.0  \n",
       "17  Primary Motor Cortex    FOV_01             6.0  \n",
       "18  Primary Motor Cortex    FOV_01             8.0  \n",
       "19  Primary Motor Cortex    FOV_02             9.0  "
      ]
     },
     "execution_count": 2,
     "metadata": {},
     "output_type": "execute_result"
    }
   ],
   "source": [
    "df=load.load_filtered_metadata()\n",
    "mouse = df[df['subject_id']==754303].sort_values(by='session_date')\n",
    "mouse"
   ]
  },
  {
   "cell_type": "code",
   "execution_count": 5,
   "id": "3ade7532",
   "metadata": {},
   "outputs": [],
   "source": [
    "color=['#004C52','#017577','#02A196','#07B89F','#0BC7A2','#12E4A1']"
   ]
  },
  {
   "cell_type": "code",
   "execution_count": 7,
   "id": "2adbbba1",
   "metadata": {},
   "outputs": [
    {
     "name": "stdout",
     "output_type": "stream",
     "text": [
      "BCI data directory: /data/brain-computer-interface\n",
      "\n",
      "Session directory: /data/brain-computer-interface/single-plane-ophys_754303_2025-01-22_18-22-38_processed_2025-08-06_18-52-36\n",
      "\n",
      "NWB file: single-plane-ophys_754303_2025-01-22_18-22-38_behavior_nwb\n",
      "NWB path: /data/brain-computer-interface/single-plane-ophys_754303_2025-01-22_18-22-38_processed_2025-08-06_18-52-36/single-plane-ophys_754303_2025-01-22_18-22-38_behavior_nwb\n"
     ]
    },
    {
     "name": "stderr",
     "output_type": "stream",
     "text": [
      "/opt/conda/lib/python3.10/site-packages/hdmf/spec/namespace.py:535: UserWarning: Ignoring cached namespace 'core' version 2.7.0 because version 2.8.0 is already loaded.\n",
      "  warn(\"Ignoring cached namespace '%s' version %s because version %s is already loaded.\"\n"
     ]
    },
    {
     "name": "stdout",
     "output_type": "stream",
     "text": [
      "All threshold files for mouse 754303: ['single-plane-ophys_754303_2025-01-27', 'single-plane-ophys_754303_2025-01-23', 'single-plane-ophys_754303_2025-01-29', 'single-plane-ophys_754303_2025-01-31', 'single-plane-ophys_754303_2025-02-03']\n",
      "\n",
      "BCI data directory: /data/brain-computer-interface\n",
      "\n",
      "Session directory: /data/brain-computer-interface/single-plane-ophys_754303_2025-01-23_19-48-32_processed_2025-08-08_15-29-29\n",
      "\n",
      "NWB file: single-plane-ophys_754303_2025-01-23_19-48-32_behavior_nwb\n",
      "NWB path: /data/brain-computer-interface/single-plane-ophys_754303_2025-01-23_19-48-32_processed_2025-08-08_15-29-29/single-plane-ophys_754303_2025-01-23_19-48-32_behavior_nwb\n"
     ]
    },
    {
     "name": "stderr",
     "output_type": "stream",
     "text": [
      "/opt/conda/lib/python3.10/site-packages/hdmf/spec/namespace.py:535: UserWarning: Ignoring cached namespace 'core' version 2.7.0 because version 2.8.0 is already loaded.\n",
      "  warn(\"Ignoring cached namespace '%s' version %s because version %s is already loaded.\"\n"
     ]
    },
    {
     "name": "stdout",
     "output_type": "stream",
     "text": [
      "All threshold files for mouse 754303: ['single-plane-ophys_754303_2025-01-27', 'single-plane-ophys_754303_2025-01-23', 'single-plane-ophys_754303_2025-01-29', 'single-plane-ophys_754303_2025-01-31', 'single-plane-ophys_754303_2025-02-03']\n",
      "\n",
      "Found threshold file at: /data/bci-thresholds/single-plane-ophys_754303_2025-01-23\n",
      "total difference in dataframes: 4\n",
      "BCI data directory: /data/brain-computer-interface\n",
      "\n",
      "Session directory: /data/brain-computer-interface/single-plane-ophys_754303_2025-01-27_20-01-31_processed_2025-08-07_06-00-10\n",
      "\n",
      "NWB file: single-plane-ophys_754303_2025-01-27_20-01-31_behavior_nwb\n",
      "NWB path: /data/brain-computer-interface/single-plane-ophys_754303_2025-01-27_20-01-31_processed_2025-08-07_06-00-10/single-plane-ophys_754303_2025-01-27_20-01-31_behavior_nwb\n"
     ]
    },
    {
     "name": "stderr",
     "output_type": "stream",
     "text": [
      "/opt/conda/lib/python3.10/site-packages/hdmf/spec/namespace.py:535: UserWarning: Ignoring cached namespace 'core' version 2.7.0 because version 2.8.0 is already loaded.\n",
      "  warn(\"Ignoring cached namespace '%s' version %s because version %s is already loaded.\"\n"
     ]
    },
    {
     "name": "stdout",
     "output_type": "stream",
     "text": [
      "All threshold files for mouse 754303: ['single-plane-ophys_754303_2025-01-27', 'single-plane-ophys_754303_2025-01-23', 'single-plane-ophys_754303_2025-01-29', 'single-plane-ophys_754303_2025-01-31', 'single-plane-ophys_754303_2025-02-03']\n",
      "\n",
      "Found threshold file at: /data/bci-thresholds/single-plane-ophys_754303_2025-01-27\n",
      "total difference in dataframes: 5\n",
      "BCI data directory: /data/brain-computer-interface\n",
      "\n",
      "Session directory: /data/brain-computer-interface/single-plane-ophys_754303_2025-01-29_16-07-41_processed_2025-08-04_04-39-41\n",
      "\n",
      "NWB file: single-plane-ophys_754303_2025-01-29_16-07-41_behavior_nwb\n",
      "NWB path: /data/brain-computer-interface/single-plane-ophys_754303_2025-01-29_16-07-41_processed_2025-08-04_04-39-41/single-plane-ophys_754303_2025-01-29_16-07-41_behavior_nwb\n"
     ]
    },
    {
     "name": "stderr",
     "output_type": "stream",
     "text": [
      "/opt/conda/lib/python3.10/site-packages/hdmf/spec/namespace.py:535: UserWarning: Ignoring cached namespace 'core' version 2.7.0 because version 2.8.0 is already loaded.\n",
      "  warn(\"Ignoring cached namespace '%s' version %s because version %s is already loaded.\"\n"
     ]
    },
    {
     "name": "stdout",
     "output_type": "stream",
     "text": [
      "All threshold files for mouse 754303: ['single-plane-ophys_754303_2025-01-27', 'single-plane-ophys_754303_2025-01-23', 'single-plane-ophys_754303_2025-01-29', 'single-plane-ophys_754303_2025-01-31', 'single-plane-ophys_754303_2025-02-03']\n",
      "\n",
      "Found threshold file at: /data/bci-thresholds/single-plane-ophys_754303_2025-01-29\n",
      "total difference in dataframes: 14\n",
      "BCI data directory: /data/brain-computer-interface\n",
      "\n",
      "Session directory: /data/brain-computer-interface/single-plane-ophys_754303_2025-01-31_15-13-50_processed_2025-08-05_20-00-52\n",
      "\n",
      "NWB file: single-plane-ophys_754303_2025-01-31_15-13-50_behavior_nwb\n",
      "NWB path: /data/brain-computer-interface/single-plane-ophys_754303_2025-01-31_15-13-50_processed_2025-08-05_20-00-52/single-plane-ophys_754303_2025-01-31_15-13-50_behavior_nwb\n"
     ]
    },
    {
     "name": "stderr",
     "output_type": "stream",
     "text": [
      "/opt/conda/lib/python3.10/site-packages/hdmf/spec/namespace.py:535: UserWarning: Ignoring cached namespace 'core' version 2.7.0 because version 2.8.0 is already loaded.\n",
      "  warn(\"Ignoring cached namespace '%s' version %s because version %s is already loaded.\"\n"
     ]
    },
    {
     "name": "stdout",
     "output_type": "stream",
     "text": [
      "All threshold files for mouse 754303: ['single-plane-ophys_754303_2025-01-27', 'single-plane-ophys_754303_2025-01-23', 'single-plane-ophys_754303_2025-01-29', 'single-plane-ophys_754303_2025-01-31', 'single-plane-ophys_754303_2025-02-03']\n",
      "\n",
      "Found threshold file at: /data/bci-thresholds/single-plane-ophys_754303_2025-01-31\n",
      "total difference in dataframes: 5\n",
      "BCI data directory: /data/brain-computer-interface\n",
      "\n",
      "Session directory: /data/brain-computer-interface/single-plane-ophys_754303_2025-02-03_15-24-22_processed_2025-08-04_04-23-48\n",
      "\n",
      "NWB file: single-plane-ophys_754303_2025-02-03_15-24-22_behavior_nwb\n",
      "NWB path: /data/brain-computer-interface/single-plane-ophys_754303_2025-02-03_15-24-22_processed_2025-08-04_04-23-48/single-plane-ophys_754303_2025-02-03_15-24-22_behavior_nwb\n"
     ]
    },
    {
     "name": "stderr",
     "output_type": "stream",
     "text": [
      "/opt/conda/lib/python3.10/site-packages/hdmf/spec/namespace.py:535: UserWarning: Ignoring cached namespace 'core' version 2.7.0 because version 2.8.0 is already loaded.\n",
      "  warn(\"Ignoring cached namespace '%s' version %s because version %s is already loaded.\"\n"
     ]
    },
    {
     "name": "stdout",
     "output_type": "stream",
     "text": [
      "All threshold files for mouse 754303: ['single-plane-ophys_754303_2025-01-27', 'single-plane-ophys_754303_2025-01-23', 'single-plane-ophys_754303_2025-01-29', 'single-plane-ophys_754303_2025-01-31', 'single-plane-ophys_754303_2025-02-03']\n",
      "\n",
      "Found threshold file at: /data/bci-thresholds/single-plane-ophys_754303_2025-02-03\n",
      "total difference in dataframes: 24\n"
     ]
    },
    {
     "data": {
      "text/plain": [
       "<matplotlib.legend.Legend at 0x7fb0b60b6bf0>"
      ]
     },
     "execution_count": 7,
     "metadata": {},
     "output_type": "execute_result"
    },
    {
     "data": {
      "image/png": "[encoded data removed]",
      "text/plain": [
       "<Figure size 1000x500 with 1 Axes>"
      ]
     },
     "metadata": {},
     "output_type": "display_data"
    }
   ],
   "source": [
    "fig,ax=plt.subplots(figsize=(10,5))\n",
    "\n",
    "for isess,idate in zip(mouse['name'],mouse['session_date']):\n",
    "\n",
    "    try:\n",
    "        data = load.load_session_data(isess)\n",
    "        data['bci_trials'] = processing.correct_bci_trials(data['bci_trials'])\n",
    "        \n",
    "        thresh_crossing_frames = np.round(data['bci_trials']['threshold_crossing_times']*data['frame_rate']).astype(int)\n",
    "\n",
    "        ax.plot(np.cumsum(thresh_crossing_frames.values),np.arange(len(np.cumsum(thresh_crossing_frames.values))),label=idate)\n",
    "        \n",
    "    except:\n",
    "        continue\n",
    "plt.legend()"
   ]
  },
  {
   "cell_type": "code",
   "execution_count": 10,
   "id": "98064e22",
   "metadata": {},
   "outputs": [
    {
     "data": {
      "text/plain": [
       "[]"
      ]
     },
     "execution_count": 10,
     "metadata": {},
     "output_type": "execute_result"
    }
   ],
   "source": [
    "isess"
   ]
  },
  {
   "cell_type": "code",
   "execution_count": null,
   "id": "f1f43714",
   "metadata": {},
   "outputs": [],
   "source": []
  }
 ],
 "metadata": {
  "kernelspec": {
   "display_name": "base",
   "language": "python",
   "name": "python3"
  },
  "language_info": {
   "codemirror_mode": {
    "name": "ipython",
    "version": 3
   },
   "file_extension": ".py",
   "mimetype": "text/x-python",
   "name": "python",
   "nbconvert_exporter": "python",
   "pygments_lexer": "ipython3",
   "version": "3.10.12"
  }
 },
 "nbformat": 4,
 "nbformat_minor": 5
}
