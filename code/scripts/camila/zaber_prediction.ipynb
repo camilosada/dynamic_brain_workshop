{
 "cells": [
  {
   "cell_type": "code",
   "execution_count": 1,
   "id": "129d06a9",
   "metadata": {},
   "outputs": [],
   "source": [
    "# General imports \n",
    "import os \n",
    "import sys\n",
    "import logging\n",
    "import platform\n",
    "from os.path import join as pjoin\n",
    "import re\n",
    "import numpy as np\n",
    "import pandas as pd\n",
    "from pathlib import Path\n",
    "import scipy.stats as stats \n",
    "from skimage import measure\n",
    "import matplotlib.pyplot as plt\n",
    "\n",
    "# Pynwb imports\n",
    "from hdmf_zarr import NWBZarrIO\n",
    "from nwbwidgets import nwb2widget\n",
    "\n",
    "sys.path.insert(0,'/code/src')\n",
    "from bci.loaders import load\n",
    "from bci.thresholds.thresholds import align_thresholds\n",
    "from bci.trials.align import indep_roll\n",
    "from bci.dataviz import traces\n",
    "from bci.processing import processing"
   ]
  },
  {
   "cell_type": "code",
   "execution_count": 2,
   "id": "ec5b3ad7",
   "metadata": {},
   "outputs": [
    {
     "name": "stdout",
     "output_type": "stream",
     "text": [
      "data directory set to /data/\n"
     ]
    }
   ],
   "source": [
    "# set data path\n",
    "platstring = platform.platform()\n",
    "system = platform.system()\n",
    "if system == \"Darwin\":\n",
    "    # macOS\n",
    "    data_dir = \"/Volumes/Brain2025/\"\n",
    "elif system == \"Windows\":\n",
    "    # Windows (replace with the drive letter of USB drive)\n",
    "    data_dir = \"E:/\"\n",
    "elif \"amzn\" in platstring:\n",
    "    # then on CodeOcean\n",
    "    data_dir = \"/data/\"\n",
    "else:\n",
    "    # then your own linux platform\n",
    "    # EDIT location where you mounted hard drive\n",
    "    data_dir = \"/media/$USERNAME/Brain2025/\"\n",
    "    \n",
    "print('data directory set to', data_dir)"
   ]
  },
  {
   "cell_type": "code",
   "execution_count": 3,
   "id": "fd9c3b6a",
   "metadata": {},
   "outputs": [],
   "source": [
    "# Load metadata csv file\n",
    "metadata = pd.read_csv(os.path.join(data_dir, 'bci_task_metadata', 'bci_metadata.csv'))\n",
    "# Get all mice available\n",
    "subject_ids = np.sort(metadata['subject_id'].unique())"
   ]
  },
  {
   "cell_type": "code",
   "execution_count": 9,
   "id": "3bf0c3ba",
   "metadata": {},
   "outputs": [
    {
     "name": "stdout",
     "output_type": "stream",
     "text": [
      "Selected subject is 767715\n",
      "Selected session is single-plane-ophys_767715_2025-02-10_16-04-20_processed_2025-08-05_12-52-18\n"
     ]
    }
   ],
   "source": [
    "subject_id = 767715 #subject_ids[0]\n",
    "# Select one subject metadata, sorted by 'session_number'\n",
    "this_mouse_metadata = metadata[metadata['subject_id']==subject_id].sort_values(by='session_number')\n",
    "# Pick one session for this mouse\n",
    "session_names = this_mouse_metadata.name.values\n",
    "i_session_name = session_names[3]\n",
    "print('Selected subject is', subject_id)\n",
    "print('Selected session is', i_session_name)"
   ]
  },
  {
   "cell_type": "code",
   "execution_count": 10,
   "id": "229e157f",
   "metadata": {},
   "outputs": [
    {
     "name": "stdout",
     "output_type": "stream",
     "text": [
      "BCI data directory: /data/brain-computer-interface\n",
      "\n",
      "Session directory: /data/brain-computer-interface/single-plane-ophys_767715_2025-02-10_16-04-20_processed_2025-08-05_12-52-18\n",
      "\n",
      "NWB file: single-plane-ophys_767715_2025-02-10_16-04-20_behavior_nwb\n",
      "NWB path: /data/brain-computer-interface/single-plane-ophys_767715_2025-02-10_16-04-20_processed_2025-08-05_12-52-18/single-plane-ophys_767715_2025-02-10_16-04-20_behavior_nwb\n"
     ]
    },
    {
     "name": "stderr",
     "output_type": "stream",
     "text": [
      "/opt/conda/lib/python3.10/site-packages/hdmf/spec/namespace.py:535: UserWarning: Ignoring cached namespace 'core' version 2.7.0 because version 2.8.0 is already loaded.\n",
      "  warn(\"Ignoring cached namespace '%s' version %s because version %s is already loaded.\"\n"
     ]
    },
    {
     "name": "stdout",
     "output_type": "stream",
     "text": [
      "All threshold files for mouse 767715: ['single-plane-ophys_767715_2025-02-10', 'single-plane-ophys_767715_2025-02-03', 'single-plane-ophys_767715_2025-01-31', 'single-plane-ophys_767715_2025-02-06', 'single-plane-ophys_767715_2025-02-17', 'single-plane-ophys_767715_2025-02-13']\n",
      "\n",
      "Found threshold file at: /data/bci-thresholds/single-plane-ophys_767715_2025-02-10\n",
      "total difference in dataframes: 23\n"
     ]
    }
   ],
   "source": [
    "session = load.load_session_data(i_session_name)\n",
    "\n",
    "nwb_file =session['nwb_file']\n",
    "epoch_table =session['epoch_table']\n",
    "dff_traces =session['dff_traces']\n",
    "roi_table = session['roi_table']\n",
    "frame_rate =session['frame_rate']\n",
    "bci_trials =session['bci_trials']\n",
    "thresholds =session['thresholds']  "
   ]
  },
  {
   "cell_type": "code",
   "execution_count": 11,
   "id": "7a4fbbd4",
   "metadata": {},
   "outputs": [],
   "source": [
    "# Select correct trials\n",
    "valid_bci_trials = processing.get_valid_bci_trials(bci_trials)\n",
    "correct_bci_trials = processing.correct_bci_trials(valid_bci_trials)\n",
    "correct_bci_trials= correct_bci_trials.reset_index()\n",
    "\n",
    "BCI_epochs = epoch_table[epoch_table.stimulus_name.str.contains('BCI')]\n",
    "start_bci_epoch = BCI_epochs.loc[BCI_epochs.index[0]].start_frame\n",
    "stop_bci_epoch = BCI_epochs.loc[BCI_epochs.index[0]].stop_frame\n",
    "start_bci_trial = correct_bci_trials['start_frame']-start_bci_epoch\n",
    "stop_bci_trial = correct_bci_trials['stop_frame']-start_bci_epoch\n",
    "thrcrossframe_bci_trial = np.round(correct_bci_trials['threshold_crossing_times']*frame_rate).astype(int)\n",
    "zaber_steps = np.round(np.array(correct_bci_trials['zaber_step_times'].tolist())*frame_rate)\n",
    "go_cue_bci = np.round(correct_bci_trials['go_cue']*frame_rate).astype(int)\n",
    "reward_time = np.round(correct_bci_trials['reward_time']*frame_rate).astype(int)\n",
    "\n",
    "low_thres =correct_bci_trials.low\n",
    "high_thres =correct_bci_trials.high"
   ]
  },
  {
   "cell_type": "code",
   "execution_count": 20,
   "id": "c9986dc8",
   "metadata": {},
   "outputs": [
    {
     "name": "stdout",
     "output_type": "stream",
     "text": [
      "CN: [4]\n"
     ]
    }
   ],
   "source": [
    "# Select relevant epoch\n",
    "dff_bci = dff_traces[start_bci_epoch:stop_bci_epoch, :]\n",
    "dff_bci = dff_bci.T# Transpose so rows are ROI IDs\n",
    "\n",
    "# Remove ROIs with traces that are NaNs (note - this takes a few seconds)\n",
    "valid_trace_ids = [i for i in range(dff_traces.shape[1]) if np.isnan(dff_traces[0, i])==False]\n",
    "# Limit ROI table to non-NaN traces\n",
    "roi_table2 = roi_table.loc[valid_trace_ids]\n",
    "\n",
    "# Find the likely somatic ROIs\n",
    "soma_probability = 0.005 # Emperically determined threshold - just trust us\n",
    "# Limit to valid somatic ROIs\n",
    "valid_rois = roi_table2[roi_table2.soma_probability>soma_probability]\n",
    "target_roi_idx = bci_trials['closest_roi'].unique()\n",
    "print(f\"CN: {target_roi_idx}\")\n",
    "if len(target_roi_idx)>1:\n",
    "    raise ValueError(\"More than one CN during BCI epoch\")\n",
    "target_roi_idx=target_roi_idx[0]\n",
    "if not(target_roi_idx in valid_rois.index):\n",
    "    valid_rois = pd.concat((valid_rois, roi_table2.loc[[target_roi_idx], :]), axis=0)\n",
    "    valid_rois = valid_rois.sort_index()\n",
    "\n",
    "\n",
    "dff_bci_valid = dff_bci[valid_rois.index.values, :]\n",
    "roi_original_idx = valid_rois.reset_index()['id']\n",
    "cn_new_idx = roi_original_idx[roi_original_idx==target_roi_idx].index[0]\n",
    "\n",
    "# Smooth dff\n",
    "smoothing_window = 10\n",
    "smooth_dff_valid = np.full(dff_bci_valid.shape,np.nan)\n",
    "kernel = np.ones(smoothing_window) / smoothing_window\n",
    "for itr,trial in enumerate (dff_bci_valid):\n",
    "    smooth_dff_valid[itr] = np.convolve(trial, kernel, mode='same')\n",
    "\n",
    "# Organize data by trials\n",
    "n_rois = smooth_dff_valid.shape[0]\n",
    "n_trials = len(start_bci_trial)\n",
    "max_tr_duration = np.max(stop_bci_trial-start_bci_trial)\n",
    "dff_by_trial = np.full((n_rois,n_trials,max_tr_duration*2),np.nan)\n",
    "for itr,(ist,istp) in enumerate(zip(start_bci_trial,stop_bci_trial)):\n",
    "\n",
    "    dff_by_trial[:,itr,:int(istp-ist)] = smooth_dff_valid[:,ist:istp]\n",
    "\n",
    "# Let's align on threshold_crossing_times\n",
    "frames_before = int(np.max(thrcrossframe_bci_trial.values))\n",
    "shifts = thrcrossframe_bci_trial.values -frames_before\n",
    "dff_bci_alignon_thr = indep_roll(dff_by_trial,-shifts,axis=-1)\n",
    "\n",
    "\n",
    "idx_change_thre = np.insert(np.where(np.insert(np.diff(high_thres), 0, 0)),0,0)\n",
    "idx_change_thre=np.append(idx_change_thre,n_trials)\n"
   ]
  },
  {
   "cell_type": "code",
   "execution_count": null,
   "id": "7dd5d87f",
   "metadata": {},
   "outputs": [],
   "source": []
  }
 ],
 "metadata": {
  "kernelspec": {
   "display_name": "base",
   "language": "python",
   "name": "python3"
  },
  "language_info": {
   "codemirror_mode": {
    "name": "ipython",
    "version": 3
   },
   "file_extension": ".py",
   "mimetype": "text/x-python",
   "name": "python",
   "nbconvert_exporter": "python",
   "pygments_lexer": "ipython3",
   "version": "3.10.12"
  }
 },
 "nbformat": 4,
 "nbformat_minor": 5
}
