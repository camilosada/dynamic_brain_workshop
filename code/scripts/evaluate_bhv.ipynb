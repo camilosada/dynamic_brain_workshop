{
 "cells": [
  {
   "cell_type": "code",
   "execution_count": 1,
   "id": "44d3559a",
   "metadata": {},
   "outputs": [],
   "source": [
    "import os \n",
    "import sys\n",
    "import platform\n",
    "from os.path import join as pjoin\n",
    "import re\n",
    "import numpy as np\n",
    "import pandas as pd\n",
    "import matplotlib.pyplot as plt\n",
    "# Pynwb imports\n",
    "from hdmf_zarr import NWBZarrIO"
   ]
  },
  {
   "cell_type": "code",
   "execution_count": 2,
   "id": "20ae2655",
   "metadata": {},
   "outputs": [],
   "source": [
    "sys.path.insert(0,'/code/src')\n",
    "from bci.loaders import load "
   ]
  },
  {
   "cell_type": "code",
   "execution_count": 3,
   "id": "55011f38",
   "metadata": {},
   "outputs": [
    {
     "name": "stdout",
     "output_type": "stream",
     "text": [
      "data directory set to /data/\n"
     ]
    }
   ],
   "source": [
    "# set data path\n",
    "platstring = platform.platform()\n",
    "system = platform.system()\n",
    "if system == \"Darwin\":\n",
    "    # macOS\n",
    "    data_dir = \"/Volumes/Brain2025/\"\n",
    "elif system == \"Windows\":\n",
    "    # Windows (replace with the drive letter of USB drive)\n",
    "    data_dir = \"E:/\"\n",
    "elif \"amzn\" in platstring:\n",
    "    # then on CodeOcean\n",
    "    data_dir = \"/data/\"\n",
    "else:\n",
    "    # then your own linux platform\n",
    "    # EDIT location where you mounted hard drive\n",
    "    data_dir = \"/media/$USERNAME/Brain2025/\"\n",
    "    \n",
    "print('data directory set to', data_dir)"
   ]
  },
  {
   "cell_type": "code",
   "execution_count": 5,
   "id": "bbe186f7",
   "metadata": {},
   "outputs": [],
   "source": [
    "# Load metadata csv file as pandas dataframe\n",
    "# Metadata contains one mice per row\n",
    "metadata = pd.read_csv(os.path.join(data_dir, 'metadata', 'bci_metadata.csv'))\n",
    "# Get all mice available\n",
    "subject_ids = np.sort(metadata['subject_id'].unique())"
   ]
  },
  {
   "cell_type": "code",
   "execution_count": 6,
   "id": "012caf04",
   "metadata": {},
   "outputs": [
    {
     "name": "stdout",
     "output_type": "stream",
     "text": [
      "Selected session is single-plane-ophys_731015_2025-01-13_20-09-20_processed_2025-08-05_03-03-16\n"
     ]
    }
   ],
   "source": [
    "# Select one mice\n",
    "n_subjects = len(subject_ids)\n",
    "subject_id = subject_ids[0]\n",
    "# Select one subject metadata, sorted by 'session_number'\n",
    "this_mouse_metadata = metadata[metadata['subject_id']==subject_id].sort_values(by='session_number')\n",
    "# Pick one session for this mouse\n",
    "session_name = this_mouse_metadata.name.values[1]\n",
    "print('Selected session is', session_name)"
   ]
  },
  {
   "cell_type": "code",
   "execution_count": null,
   "id": "212fdded",
   "metadata": {},
   "outputs": [
    {
     "name": "stdout",
     "output_type": "stream",
     "text": [
      "/data/brain-computer-interface\n",
      "/data/brain-computer-interface/single-plane-ophys_731015_2025-01-10_18-06-31_processed_2025-08-03_20-39-09\n",
      "/data/brain-computer-interface/single-plane-ophys_731015_2025-01-10_18-06-31_processed_2025-08-03_20-39-09/single-plane-ophys_731015_2025-01-10_18-06-31_behavior_nwb\n"
     ]
    },
    {
     "name": "stderr",
     "output_type": "stream",
     "text": [
      "/opt/conda/lib/python3.10/site-packages/hdmf/spec/namespace.py:535: UserWarning: Ignoring cached namespace 'core' version 2.7.0 because version 2.8.0 is already loaded.\n",
      "  warn(\"Ignoring cached namespace '%s' version %s because version %s is already loaded.\"\n"
     ]
    },
    {
     "name": "stdout",
     "output_type": "stream",
     "text": [
      "/data/brain-computer-interface\n",
      "/data/brain-computer-interface/single-plane-ophys_731015_2025-01-13_20-09-20_processed_2025-08-05_03-03-16\n",
      "/data/brain-computer-interface/single-plane-ophys_731015_2025-01-13_20-09-20_processed_2025-08-05_03-03-16/single-plane-ophys_731015_2025-01-13_20-09-20_behavior_nwb\n"
     ]
    },
    {
     "name": "stderr",
     "output_type": "stream",
     "text": [
      "/opt/conda/lib/python3.10/site-packages/hdmf/spec/namespace.py:535: UserWarning: Ignoring cached namespace 'core' version 2.7.0 because version 2.8.0 is already loaded.\n",
      "  warn(\"Ignoring cached namespace '%s' version %s because version %s is already loaded.\"\n"
     ]
    },
    {
     "name": "stdout",
     "output_type": "stream",
     "text": [
      "/data/brain-computer-interface\n",
      "/data/brain-computer-interface/single-plane-ophys_731015_2025-01-24_20-00-44_processed_2025-08-04_06-27-07\n",
      "/data/brain-computer-interface/single-plane-ophys_731015_2025-01-24_20-00-44_processed_2025-08-04_06-27-07/single-plane-ophys_731015_2025-01-24_20-00-44_behavior_nwb\n"
     ]
    },
    {
     "name": "stderr",
     "output_type": "stream",
     "text": [
      "/opt/conda/lib/python3.10/site-packages/hdmf/spec/namespace.py:535: UserWarning: Ignoring cached namespace 'core' version 2.7.0 because version 2.8.0 is already loaded.\n",
      "  warn(\"Ignoring cached namespace '%s' version %s because version %s is already loaded.\"\n"
     ]
    },
    {
     "name": "stdout",
     "output_type": "stream",
     "text": [
      "/data/brain-computer-interface\n",
      "/data/brain-computer-interface/single-plane-ophys_731015_2025-01-28_17-40-57_processed_2025-08-04_04-38-08\n",
      "/data/brain-computer-interface\n",
      "/data/brain-computer-interface/single-plane-ophys_731015_2025-01-28_17-40-57_processed_2025-08-08_15-30-22\n",
      "/data/brain-computer-interface/single-plane-ophys_731015_2025-01-28_17-40-57_processed_2025-08-08_15-30-22/single-plane-ophys_731015_2025-01-28_17-40-57_behavior_nwb\n"
     ]
    },
    {
     "name": "stderr",
     "output_type": "stream",
     "text": [
      "/opt/conda/lib/python3.10/site-packages/hdmf/spec/namespace.py:535: UserWarning: Ignoring cached namespace 'core' version 2.7.0 because version 2.8.0 is already loaded.\n",
      "  warn(\"Ignoring cached namespace '%s' version %s because version %s is already loaded.\"\n"
     ]
    },
    {
     "name": "stdout",
     "output_type": "stream",
     "text": [
      "/data/brain-computer-interface\n",
      "/data/brain-computer-interface/single-plane-ophys_731015_2025-01-28_18-56-35_processed_2025-08-03_21-58-28\n",
      "/data/brain-computer-interface/single-plane-ophys_731015_2025-01-28_18-56-35_processed_2025-08-03_21-58-28/single-plane-ophys_731015_2025-01-28_18-56-35_behavior_nwb\n"
     ]
    },
    {
     "name": "stderr",
     "output_type": "stream",
     "text": [
      "/opt/conda/lib/python3.10/site-packages/hdmf/spec/namespace.py:535: UserWarning: Ignoring cached namespace 'core' version 2.7.0 because version 2.8.0 is already loaded.\n",
      "  warn(\"Ignoring cached namespace '%s' version %s because version %s is already loaded.\"\n"
     ]
    },
    {
     "name": "stdout",
     "output_type": "stream",
     "text": [
      "/data/brain-computer-interface\n",
      "/data/brain-computer-interface/single-plane-ophys_731015_2025-01-31_20-37-19_processed_2025-08-06_05-37-58\n",
      "/data/brain-computer-interface/single-plane-ophys_731015_2025-01-31_20-37-19_processed_2025-08-06_05-37-58/single-plane-ophys_731015_2025-01-31_20-37-19_behavior_nwb\n"
     ]
    },
    {
     "name": "stderr",
     "output_type": "stream",
     "text": [
      "/opt/conda/lib/python3.10/site-packages/hdmf/spec/namespace.py:535: UserWarning: Ignoring cached namespace 'core' version 2.7.0 because version 2.8.0 is already loaded.\n",
      "  warn(\"Ignoring cached namespace '%s' version %s because version %s is already loaded.\"\n"
     ]
    },
    {
     "name": "stdout",
     "output_type": "stream",
     "text": [
      "/data/brain-computer-interface\n",
      "/data/brain-computer-interface/single-plane-ophys_740369_2025-01-09_17-18-37_processed_2025-08-06_03-49-53\n",
      "/data/brain-computer-interface/single-plane-ophys_740369_2025-01-09_17-18-37_processed_2025-08-06_03-49-53/single-plane-ophys_740369_2025-01-09_17-18-37_behavior_nwb\n"
     ]
    },
    {
     "name": "stderr",
     "output_type": "stream",
     "text": [
      "/opt/conda/lib/python3.10/site-packages/hdmf/spec/namespace.py:535: UserWarning: Ignoring cached namespace 'core' version 2.7.0 because version 2.8.0 is already loaded.\n",
      "  warn(\"Ignoring cached namespace '%s' version %s because version %s is already loaded.\"\n"
     ]
    },
    {
     "name": "stdout",
     "output_type": "stream",
     "text": [
      "/data/brain-computer-interface\n",
      "/data/brain-computer-interface/single-plane-ophys_740369_2025-01-13_17-31-04_processed_2025-08-04_17-59-13\n",
      "/data/brain-computer-interface/single-plane-ophys_740369_2025-01-13_17-31-04_processed_2025-08-04_17-59-13/single-plane-ophys_740369_2025-01-13_17-31-04_behavior_nwb\n"
     ]
    },
    {
     "name": "stderr",
     "output_type": "stream",
     "text": [
      "/opt/conda/lib/python3.10/site-packages/hdmf/spec/namespace.py:535: UserWarning: Ignoring cached namespace 'core' version 2.7.0 because version 2.8.0 is already loaded.\n",
      "  warn(\"Ignoring cached namespace '%s' version %s because version %s is already loaded.\"\n"
     ]
    },
    {
     "name": "stdout",
     "output_type": "stream",
     "text": [
      "/data/brain-computer-interface\n",
      "/data/brain-computer-interface/single-plane-ophys_740369_2025-01-24_21-18-11_processed_2025-08-04_06-39-23\n",
      "/data/brain-computer-interface/single-plane-ophys_740369_2025-01-24_21-18-11_processed_2025-08-04_06-39-23/single-plane-ophys_740369_2025-01-24_21-18-11_behavior_nwb\n"
     ]
    },
    {
     "name": "stderr",
     "output_type": "stream",
     "text": [
      "/opt/conda/lib/python3.10/site-packages/hdmf/spec/namespace.py:535: UserWarning: Ignoring cached namespace 'core' version 2.7.0 because version 2.8.0 is already loaded.\n",
      "  warn(\"Ignoring cached namespace '%s' version %s because version %s is already loaded.\"\n"
     ]
    },
    {
     "name": "stdout",
     "output_type": "stream",
     "text": [
      "/data/brain-computer-interface\n",
      "/data/brain-computer-interface/single-plane-ophys_740369_2025-02-03_19-18-31_processed_2025-08-03_23-27-56\n",
      "/data/brain-computer-interface/single-plane-ophys_740369_2025-02-03_19-18-31_processed_2025-08-03_23-27-56/single-plane-ophys_740369_2025-02-03_19-18-31_behavior_nwb\n"
     ]
    },
    {
     "name": "stderr",
     "output_type": "stream",
     "text": [
      "/opt/conda/lib/python3.10/site-packages/hdmf/spec/namespace.py:535: UserWarning: Ignoring cached namespace 'core' version 2.7.0 because version 2.8.0 is already loaded.\n",
      "  warn(\"Ignoring cached namespace '%s' version %s because version %s is already loaded.\"\n"
     ]
    },
    {
     "name": "stdout",
     "output_type": "stream",
     "text": [
      "/data/brain-computer-interface\n",
      "/data/brain-computer-interface/single-plane-ophys_740369_2025-02-04_17-33-11_processed_2025-08-04_15-49-43\n",
      "/data/brain-computer-interface/single-plane-ophys_740369_2025-02-04_17-33-11_processed_2025-08-04_15-49-43/single-plane-ophys_740369_2025-02-04_17-33-11_behavior_nwb\n"
     ]
    },
    {
     "name": "stderr",
     "output_type": "stream",
     "text": [
      "/opt/conda/lib/python3.10/site-packages/hdmf/spec/namespace.py:535: UserWarning: Ignoring cached namespace 'core' version 2.7.0 because version 2.8.0 is already loaded.\n",
      "  warn(\"Ignoring cached namespace '%s' version %s because version %s is already loaded.\"\n"
     ]
    },
    {
     "name": "stdout",
     "output_type": "stream",
     "text": [
      "/data/brain-computer-interface\n",
      "/data/brain-computer-interface/single-plane-ophys_740369_2025-02-17_19-26-59_processed_2025-08-05_14-38-08\n",
      "/data/brain-computer-interface/single-plane-ophys_740369_2025-02-17_19-26-59_processed_2025-08-05_14-38-08/single-plane-ophys_740369_2025-02-17_19-26-59_behavior_nwb\n"
     ]
    },
    {
     "name": "stderr",
     "output_type": "stream",
     "text": [
      "/opt/conda/lib/python3.10/site-packages/hdmf/spec/namespace.py:535: UserWarning: Ignoring cached namespace 'core' version 2.7.0 because version 2.8.0 is already loaded.\n",
      "  warn(\"Ignoring cached namespace '%s' version %s because version %s is already loaded.\"\n"
     ]
    },
    {
     "name": "stdout",
     "output_type": "stream",
     "text": [
      "/data/brain-computer-interface\n",
      "/data/brain-computer-interface/single-plane-ophys_740369_2025-01-30_18-44-54_processed_2025-08-04_13-31-14\n",
      "/data/brain-computer-interface/single-plane-ophys_740369_2025-01-30_18-44-54_processed_2025-08-04_13-31-14/single-plane-ophys_740369_2025-01-30_18-44-54_behavior_nwb\n"
     ]
    },
    {
     "name": "stderr",
     "output_type": "stream",
     "text": [
      "/opt/conda/lib/python3.10/site-packages/hdmf/spec/namespace.py:535: UserWarning: Ignoring cached namespace 'core' version 2.7.0 because version 2.8.0 is already loaded.\n",
      "  warn(\"Ignoring cached namespace '%s' version %s because version %s is already loaded.\"\n"
     ]
    },
    {
     "name": "stdout",
     "output_type": "stream",
     "text": [
      "/data/brain-computer-interface\n",
      "/data/brain-computer-interface/single-plane-ophys_754303_2025-01-22_18-22-38_processed_2025-08-06_18-52-36\n",
      "/data/brain-computer-interface/single-plane-ophys_754303_2025-01-22_18-22-38_processed_2025-08-06_18-52-36/single-plane-ophys_754303_2025-01-22_18-22-38_behavior_nwb\n"
     ]
    },
    {
     "name": "stderr",
     "output_type": "stream",
     "text": [
      "/opt/conda/lib/python3.10/site-packages/hdmf/spec/namespace.py:535: UserWarning: Ignoring cached namespace 'core' version 2.7.0 because version 2.8.0 is already loaded.\n",
      "  warn(\"Ignoring cached namespace '%s' version %s because version %s is already loaded.\"\n"
     ]
    },
    {
     "name": "stdout",
     "output_type": "stream",
     "text": [
      "/data/brain-computer-interface\n",
      "/data/brain-computer-interface/single-plane-ophys_754303_2025-01-23_19-48-32_processed_2025-08-08_15-29-29\n",
      "/data/brain-computer-interface/single-plane-ophys_754303_2025-01-23_19-48-32_processed_2025-08-08_15-29-29/single-plane-ophys_754303_2025-01-23_19-48-32_behavior_nwb\n"
     ]
    },
    {
     "name": "stderr",
     "output_type": "stream",
     "text": [
      "/opt/conda/lib/python3.10/site-packages/hdmf/spec/namespace.py:535: UserWarning: Ignoring cached namespace 'core' version 2.7.0 because version 2.8.0 is already loaded.\n",
      "  warn(\"Ignoring cached namespace '%s' version %s because version %s is already loaded.\"\n"
     ]
    },
    {
     "name": "stdout",
     "output_type": "stream",
     "text": [
      "/data/brain-computer-interface\n",
      "/data/brain-computer-interface/single-plane-ophys_754303_2025-01-27_20-01-31_processed_2025-08-07_06-00-10\n",
      "/data/brain-computer-interface/single-plane-ophys_754303_2025-01-27_20-01-31_processed_2025-08-07_06-00-10/single-plane-ophys_754303_2025-01-27_20-01-31_behavior_nwb\n"
     ]
    },
    {
     "name": "stderr",
     "output_type": "stream",
     "text": [
      "/opt/conda/lib/python3.10/site-packages/hdmf/spec/namespace.py:535: UserWarning: Ignoring cached namespace 'core' version 2.7.0 because version 2.8.0 is already loaded.\n",
      "  warn(\"Ignoring cached namespace '%s' version %s because version %s is already loaded.\"\n"
     ]
    },
    {
     "name": "stdout",
     "output_type": "stream",
     "text": [
      "/data/brain-computer-interface\n",
      "/data/brain-computer-interface/single-plane-ophys_754303_2025-01-29_16-07-41_processed_2025-08-04_04-39-41\n",
      "/data/brain-computer-interface/single-plane-ophys_754303_2025-01-29_16-07-41_processed_2025-08-04_04-39-41/single-plane-ophys_754303_2025-01-29_16-07-41_behavior_nwb\n"
     ]
    },
    {
     "name": "stderr",
     "output_type": "stream",
     "text": [
      "/opt/conda/lib/python3.10/site-packages/hdmf/spec/namespace.py:535: UserWarning: Ignoring cached namespace 'core' version 2.7.0 because version 2.8.0 is already loaded.\n",
      "  warn(\"Ignoring cached namespace '%s' version %s because version %s is already loaded.\"\n"
     ]
    },
    {
     "name": "stdout",
     "output_type": "stream",
     "text": [
      "/data/brain-computer-interface\n",
      "/data/brain-computer-interface/single-plane-ophys_754303_2025-01-31_15-13-50_processed_2025-08-05_20-00-52\n",
      "/data/brain-computer-interface/single-plane-ophys_754303_2025-01-31_15-13-50_processed_2025-08-05_20-00-52/single-plane-ophys_754303_2025-01-31_15-13-50_behavior_nwb\n"
     ]
    },
    {
     "name": "stderr",
     "output_type": "stream",
     "text": [
      "/opt/conda/lib/python3.10/site-packages/hdmf/spec/namespace.py:535: UserWarning: Ignoring cached namespace 'core' version 2.7.0 because version 2.8.0 is already loaded.\n",
      "  warn(\"Ignoring cached namespace '%s' version %s because version %s is already loaded.\"\n"
     ]
    },
    {
     "name": "stdout",
     "output_type": "stream",
     "text": [
      "/data/brain-computer-interface\n",
      "/data/brain-computer-interface/single-plane-ophys_754303_2025-02-03_15-24-22_processed_2025-08-04_04-23-48\n",
      "/data/brain-computer-interface/single-plane-ophys_754303_2025-02-03_15-24-22_processed_2025-08-04_04-23-48/single-plane-ophys_754303_2025-02-03_15-24-22_behavior_nwb\n"
     ]
    },
    {
     "name": "stderr",
     "output_type": "stream",
     "text": [
      "/opt/conda/lib/python3.10/site-packages/hdmf/spec/namespace.py:535: UserWarning: Ignoring cached namespace 'core' version 2.7.0 because version 2.8.0 is already loaded.\n",
      "  warn(\"Ignoring cached namespace '%s' version %s because version %s is already loaded.\"\n"
     ]
    },
    {
     "name": "stdout",
     "output_type": "stream",
     "text": [
      "/data/brain-computer-interface\n",
      "/data/brain-computer-interface/single-plane-ophys_766719_2025-01-22_16-45-18_processed_2025-08-06_17-55-43\n",
      "/data/brain-computer-interface/single-plane-ophys_766719_2025-01-22_16-45-18_processed_2025-08-06_17-55-43/single-plane-ophys_766719_2025-01-22_16-45-18_behavior_nwb\n"
     ]
    },
    {
     "name": "stderr",
     "output_type": "stream",
     "text": [
      "/opt/conda/lib/python3.10/site-packages/hdmf/spec/namespace.py:535: UserWarning: Ignoring cached namespace 'core' version 2.7.0 because version 2.8.0 is already loaded.\n",
      "  warn(\"Ignoring cached namespace '%s' version %s because version %s is already loaded.\"\n"
     ]
    },
    {
     "name": "stdout",
     "output_type": "stream",
     "text": [
      "/data/brain-computer-interface\n",
      "/data/brain-computer-interface/single-plane-ophys_766719_2025-01-23_18-24-57_processed_2025-08-04_05-56-15\n",
      "/data/brain-computer-interface/single-plane-ophys_766719_2025-01-23_18-24-57_processed_2025-08-04_05-56-15/single-plane-ophys_766719_2025-01-23_18-24-57_behavior_nwb\n"
     ]
    },
    {
     "name": "stderr",
     "output_type": "stream",
     "text": [
      "/opt/conda/lib/python3.10/site-packages/hdmf/spec/namespace.py:535: UserWarning: Ignoring cached namespace 'core' version 2.7.0 because version 2.8.0 is already loaded.\n",
      "  warn(\"Ignoring cached namespace '%s' version %s because version %s is already loaded.\"\n"
     ]
    },
    {
     "name": "stdout",
     "output_type": "stream",
     "text": [
      "/data/brain-computer-interface\n",
      "/data/brain-computer-interface/single-plane-ophys_766719_2025-01-27_18-25-39_processed_2025-08-07_04-04-45\n",
      "/data/brain-computer-interface/single-plane-ophys_766719_2025-01-27_18-25-39_processed_2025-08-07_04-04-45/single-plane-ophys_766719_2025-01-27_18-25-39_behavior_nwb\n",
      "/data/brain-computer-interface\n",
      "/data/brain-computer-interface/single-plane-ophys_767715_2025-01-31_18-15-21_processed_2025-08-06_07-02-58\n",
      "/data/brain-computer-interface/single-plane-ophys_767715_2025-01-31_18-15-21_processed_2025-08-06_07-02-58/single-plane-ophys_767715_2025-01-31_18-15-21_behavior_nwb\n"
     ]
    },
    {
     "name": "stderr",
     "output_type": "stream",
     "text": [
      "/opt/conda/lib/python3.10/site-packages/hdmf/spec/namespace.py:535: UserWarning: Ignoring cached namespace 'core' version 2.7.0 because version 2.8.0 is already loaded.\n",
      "  warn(\"Ignoring cached namespace '%s' version %s because version %s is already loaded.\"\n"
     ]
    },
    {
     "name": "stdout",
     "output_type": "stream",
     "text": [
      "/data/brain-computer-interface\n",
      "/data/brain-computer-interface/single-plane-ophys_767715_2025-02-03_17-30-05_processed_2025-08-03_23-22-19\n",
      "/data/brain-computer-interface/single-plane-ophys_767715_2025-02-03_17-30-05_processed_2025-08-03_23-22-19/single-plane-ophys_767715_2025-02-03_17-30-05_behavior_nwb\n"
     ]
    },
    {
     "name": "stderr",
     "output_type": "stream",
     "text": [
      "/opt/conda/lib/python3.10/site-packages/hdmf/spec/namespace.py:535: UserWarning: Ignoring cached namespace 'core' version 2.7.0 because version 2.8.0 is already loaded.\n",
      "  warn(\"Ignoring cached namespace '%s' version %s because version %s is already loaded.\"\n"
     ]
    },
    {
     "name": "stdout",
     "output_type": "stream",
     "text": [
      "/data/brain-computer-interface\n",
      "/data/brain-computer-interface/single-plane-ophys_767715_2025-02-06_18-59-24_processed_2025-08-06_19-25-46\n",
      "/data/brain-computer-interface/single-plane-ophys_767715_2025-02-06_18-59-24_processed_2025-08-06_19-25-46/single-plane-ophys_767715_2025-02-06_18-59-24_behavior_nwb\n"
     ]
    },
    {
     "name": "stderr",
     "output_type": "stream",
     "text": [
      "/opt/conda/lib/python3.10/site-packages/hdmf/spec/namespace.py:535: UserWarning: Ignoring cached namespace 'core' version 2.7.0 because version 2.8.0 is already loaded.\n",
      "  warn(\"Ignoring cached namespace '%s' version %s because version %s is already loaded.\"\n"
     ]
    },
    {
     "name": "stdout",
     "output_type": "stream",
     "text": [
      "/data/brain-computer-interface\n",
      "/data/brain-computer-interface/single-plane-ophys_767715_2025-02-10_16-04-20_processed_2025-08-05_12-52-18\n",
      "/data/brain-computer-interface/single-plane-ophys_767715_2025-02-10_16-04-20_processed_2025-08-05_12-52-18/single-plane-ophys_767715_2025-02-10_16-04-20_behavior_nwb\n"
     ]
    },
    {
     "name": "stderr",
     "output_type": "stream",
     "text": [
      "/opt/conda/lib/python3.10/site-packages/hdmf/spec/namespace.py:535: UserWarning: Ignoring cached namespace 'core' version 2.7.0 because version 2.8.0 is already loaded.\n",
      "  warn(\"Ignoring cached namespace '%s' version %s because version %s is already loaded.\"\n"
     ]
    },
    {
     "name": "stdout",
     "output_type": "stream",
     "text": [
      "/data/brain-computer-interface\n",
      "/data/brain-computer-interface/single-plane-ophys_767715_2025-02-13_16-44-36_processed_2025-08-06_06-02-13\n",
      "/data/brain-computer-interface/single-plane-ophys_767715_2025-02-13_16-44-36_processed_2025-08-06_06-02-13/single-plane-ophys_767715_2025-02-13_16-44-36_behavior_nwb\n"
     ]
    }
   ],
   "source": [
    "for i_sub in subject_ids:\n",
    "\n",
    "    # Select subject metadata, sorted by 'session_number'\n",
    "    this_mouse_metadata = metadata[metadata['subject_id']==i_sub].sort_values(by='session_number')\n",
    "    session_names = this_mouse_metadata.name.values\n",
    "    n_sessions = len(session_names)\n",
    "\n",
    "    fig,ax = plt.subplots(figsize=(22,8))\n",
    "    for i,i_session in enumerate(session_names):\n",
    "        try:\n",
    "            nwbfile = load.load_nwb_session_file(data_dir,i_session)\n",
    "        except:\n",
    "            continue\n",
    "        # read trials\n",
    "        bci_trials = nwbfile.stimulus[\"Trials\"].to_dataframe()\n",
    "        threshold_crossing_times = bci_trials['threshold_crossing_times']\n",
    "        # plot threshold_crossing_times\n",
    "        ax.plot(threshold_crossing_times+i*10)\n",
    "        ax.scatter(np.arange(len(threshold_crossing_times)),threshold_crossing_times+i*10)\n",
    "        ax.set_xlabel('Trials', fontsize=18)\n",
    "        ax.set_ylabel('Threshold crossing times', fontsize=18)\n",
    "        fig.suptitle(f'Crossing times Subject:{i_sub}', fontsize=18)"
   ]
  },
  {
   "cell_type": "code",
   "execution_count": null,
   "id": "000ba4cf",
   "metadata": {},
   "outputs": [],
   "source": []
  },
  {
   "cell_type": "code",
   "execution_count": null,
   "id": "d46fab30",
   "metadata": {},
   "outputs": [],
   "source": []
  },
  {
   "cell_type": "code",
   "execution_count": null,
   "id": "f89ac546",
   "metadata": {},
   "outputs": [],
   "source": []
  },
  {
   "cell_type": "code",
   "execution_count": null,
   "id": "a3f5bb65",
   "metadata": {},
   "outputs": [],
   "source": []
  },
  {
   "cell_type": "code",
   "execution_count": null,
   "id": "e71aad70",
   "metadata": {},
   "outputs": [],
   "source": []
  },
  {
   "cell_type": "code",
   "execution_count": null,
   "id": "b2836743",
   "metadata": {},
   "outputs": [
    {
     "name": "stdout",
     "output_type": "stream",
     "text": [
      "dff shape (nframes, nrois): (213782, 1558)\n",
      "Frame Rate: 58.2634\n"
     ]
    }
   ],
   "source": [
    "# # Get dff_ttraces\n",
    "# dff_traces = nwbfile.processing[\"processed\"].data_interfaces[\"dff\"].roi_response_series[\"dff\"].data\n",
    "# print('dff shape (nframes, nrois):',np.shape(dff_traces))\n",
    "# # \n",
    "# frame_rate = nwbfile.imaging_planes[\"processed\"].imaging_rate\n",
    "# print('Frame Rate:', frame_rate)"
   ]
  },
  {
   "cell_type": "code",
   "execution_count": null,
   "id": "3891a996",
   "metadata": {},
   "outputs": [],
   "source": []
  },
  {
   "cell_type": "code",
   "execution_count": null,
   "id": "5166c939",
   "metadata": {},
   "outputs": [],
   "source": []
  }
 ],
 "metadata": {
  "kernelspec": {
   "display_name": "base",
   "language": "python",
   "name": "python3"
  },
  "language_info": {
   "codemirror_mode": {
    "name": "ipython",
    "version": 3
   },
   "file_extension": ".py",
   "mimetype": "text/x-python",
   "name": "python",
   "nbconvert_exporter": "python",
   "pygments_lexer": "ipython3",
   "version": "3.10.12"
  }
 },
 "nbformat": 4,
 "nbformat_minor": 5
}
