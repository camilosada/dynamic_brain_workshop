{
 "cells": [
  {
   "cell_type": "code",
   "execution_count": 3,
   "id": "44d3559a",
   "metadata": {},
   "outputs": [],
   "source": [
    "# General imports \n",
    "import os \n",
    "import re\n",
    "import numpy as np\n",
    "import pandas as pd\n",
    "from pathlib import Path\n",
    "import scipy.stats as stats \n",
    "from skimage import measure\n",
    "import matplotlib.pyplot as plt\n",
    "\n",
    "# Pynwb imports\n",
    "from hdmf_zarr import NWBZarrIO\n",
    "from nwbwidgets import nwb2widget"
   ]
  },
  {
   "cell_type": "code",
   "execution_count": 4,
   "id": "920a3fb5-918d-48a1-a2aa-67ca21c00c2f",
   "metadata": {
    "tags": []
   },
   "outputs": [
    {
     "name": "stdout",
     "output_type": "stream",
     "text": [
      "data directory set to /data/\n"
     ]
    }
   ],
   "source": [
    "# set data path\n",
    "import sys\n",
    "import platform\n",
    "from os.path import join as pjoin\n",
    "\n",
    "platstring = platform.platform()\n",
    "system = platform.system()\n",
    "if system == \"Darwin\":\n",
    "    # macOS\n",
    "    data_dir = \"/Volumes/Brain2025/\"\n",
    "elif system == \"Windows\":\n",
    "    # Windows (replace with the drive letter of USB drive)\n",
    "    data_dir = \"E:/\"\n",
    "elif \"amzn\" in platstring:\n",
    "    # then on CodeOcean\n",
    "    data_dir = \"/data/\"\n",
    "else:\n",
    "    # then your own linux platform\n",
    "    # EDIT location where you mounted hard drive\n",
    "    data_dir = \"/media/$USERNAME/Brain2025/\"\n",
    "    \n",
    "print('data directory set to', data_dir)"
   ]
  },
  {
   "cell_type": "code",
   "execution_count": 5,
   "id": "20ae2655",
   "metadata": {},
   "outputs": [],
   "source": [
    "sys.path.insert(0,'/code/src')\n",
    "from bci.loaders import load "
   ]
  },
  {
   "cell_type": "code",
   "execution_count": 7,
   "id": "bbe186f7",
   "metadata": {},
   "outputs": [
    {
     "data": {
      "text/html": [
       "<div>\n",
       "<style scoped>\n",
       "    .dataframe tbody tr th:only-of-type {\n",
       "        vertical-align: middle;\n",
       "    }\n",
       "\n",
       "    .dataframe tbody tr th {\n",
       "        vertical-align: top;\n",
       "    }\n",
       "\n",
       "    .dataframe thead th {\n",
       "        text-align: right;\n",
       "    }\n",
       "</style>\n",
       "<table border=\"1\" class=\"dataframe\">\n",
       "  <thead>\n",
       "    <tr style=\"text-align: right;\">\n",
       "      <th></th>\n",
       "      <th>project_name</th>\n",
       "      <th>session_type</th>\n",
       "      <th>_id</th>\n",
       "      <th>name</th>\n",
       "      <th>subject_id</th>\n",
       "      <th>genotype</th>\n",
       "      <th>virus</th>\n",
       "      <th>date_of_birth</th>\n",
       "      <th>sex</th>\n",
       "      <th>modality</th>\n",
       "      <th>session_date</th>\n",
       "      <th>age</th>\n",
       "      <th>session_time</th>\n",
       "      <th>targeted_structure</th>\n",
       "      <th>ophys_fov</th>\n",
       "      <th>session_number</th>\n",
       "    </tr>\n",
       "  </thead>\n",
       "  <tbody>\n",
       "    <tr>\n",
       "      <th>0</th>\n",
       "      <td>Brain Computer Interface</td>\n",
       "      <td>BCI single neuron stim</td>\n",
       "      <td>03f1b82e-4494-46bc-a959-50c4b14d13da</td>\n",
       "      <td>single-plane-ophys_731015_2025-01-28_17-40-57_...</td>\n",
       "      <td>731015</td>\n",
       "      <td>Slc17a6-IRES-Cre/wt;Ai230(TIT2L-XCaMPG-WPRE-IC...</td>\n",
       "      <td>pAAV-hSyn1-RiboL1-GCaMP8s-WPRE</td>\n",
       "      <td>2024-03-14</td>\n",
       "      <td>Female</td>\n",
       "      <td>Planar optical physiology</td>\n",
       "      <td>2025-01-28</td>\n",
       "      <td>320</td>\n",
       "      <td>17:40:57.996000</td>\n",
       "      <td>Primary Motor Cortex</td>\n",
       "      <td>FOV_04</td>\n",
       "      <td>22.0</td>\n",
       "    </tr>\n",
       "    <tr>\n",
       "      <th>1</th>\n",
       "      <td>Brain Computer Interface</td>\n",
       "      <td>BCI single neuron stim</td>\n",
       "      <td>b28d6321-1b1b-4110-87fb-0e19325c1dfe</td>\n",
       "      <td>single-plane-ophys_767715_2025-02-17_17-41-50_...</td>\n",
       "      <td>767715</td>\n",
       "      <td>Slc17a6-IRES-Cre/wt;Ai230(TIT2L-XCaMPG-WPRE-IC...</td>\n",
       "      <td>pAAV-hSyn1-RiboL1-GCaMP8s-WPRE</td>\n",
       "      <td>2024-09-15</td>\n",
       "      <td>Female</td>\n",
       "      <td>Planar optical physiology</td>\n",
       "      <td>2025-02-17</td>\n",
       "      <td>155</td>\n",
       "      <td>17:41:50.758000</td>\n",
       "      <td>Primary Motor Cortex</td>\n",
       "      <td>FOV_03</td>\n",
       "      <td>8.0</td>\n",
       "    </tr>\n",
       "    <tr>\n",
       "      <th>2</th>\n",
       "      <td>Brain Computer Interface</td>\n",
       "      <td>BCI single neuron stim</td>\n",
       "      <td>580448b2-4b93-4477-b6ac-6e2972792fe0</td>\n",
       "      <td>single-plane-ophys_772414_2025-01-27_15-57-05_...</td>\n",
       "      <td>772414</td>\n",
       "      <td>Camk2a-tTA/wt;tetO-GCaMP6s/wt</td>\n",
       "      <td>pAAV-CaMKIIa-ChRmine-oScarlet-Kv2.1-WPRE - 7413</td>\n",
       "      <td>2024-10-15</td>\n",
       "      <td>Female</td>\n",
       "      <td>Planar optical physiology</td>\n",
       "      <td>2025-01-27</td>\n",
       "      <td>104</td>\n",
       "      <td>14:23:26.693000</td>\n",
       "      <td>Primary Motor Cortex</td>\n",
       "      <td>FOV_01</td>\n",
       "      <td>5.0</td>\n",
       "    </tr>\n",
       "    <tr>\n",
       "      <th>3</th>\n",
       "      <td>Brain Computer Interface</td>\n",
       "      <td>BCI single neuron stim</td>\n",
       "      <td>c1be8449-7bef-4967-88f5-6a6ffc29e5a3</td>\n",
       "      <td>single-plane-ophys_772414_2025-02-06_16-47-44_...</td>\n",
       "      <td>772414</td>\n",
       "      <td>Camk2a-tTA/wt;tetO-GCaMP6s/wt</td>\n",
       "      <td>pAAV-CaMKIIa-ChRmine-oScarlet-Kv2.1-WPRE - 7413</td>\n",
       "      <td>2024-10-15</td>\n",
       "      <td>Female</td>\n",
       "      <td>Planar optical physiology</td>\n",
       "      <td>2025-02-06</td>\n",
       "      <td>114</td>\n",
       "      <td>16:47:44.152999</td>\n",
       "      <td>Primary Motor Cortex</td>\n",
       "      <td>FOV_02</td>\n",
       "      <td>13.0</td>\n",
       "    </tr>\n",
       "    <tr>\n",
       "      <th>4</th>\n",
       "      <td>Brain Computer Interface</td>\n",
       "      <td>BCI single neuron stim</td>\n",
       "      <td>15b395c0-1caf-4be4-a212-a13b9a4d1dfc</td>\n",
       "      <td>single-plane-ophys_772414_2025-02-10_11-15-26_...</td>\n",
       "      <td>772414</td>\n",
       "      <td>Camk2a-tTA/wt;tetO-GCaMP6s/wt</td>\n",
       "      <td>pAAV-CaMKIIa-ChRmine-oScarlet-Kv2.1-WPRE - 7413</td>\n",
       "      <td>2024-10-15</td>\n",
       "      <td>Female</td>\n",
       "      <td>Planar optical physiology</td>\n",
       "      <td>2025-02-10</td>\n",
       "      <td>118</td>\n",
       "      <td>11:15:26.609999</td>\n",
       "      <td>Primary Motor Cortex</td>\n",
       "      <td>FOV_03</td>\n",
       "      <td>14.0</td>\n",
       "    </tr>\n",
       "  </tbody>\n",
       "</table>\n",
       "</div>"
      ],
      "text/plain": [
       "               project_name            session_type  \\\n",
       "0  Brain Computer Interface  BCI single neuron stim   \n",
       "1  Brain Computer Interface  BCI single neuron stim   \n",
       "2  Brain Computer Interface  BCI single neuron stim   \n",
       "3  Brain Computer Interface  BCI single neuron stim   \n",
       "4  Brain Computer Interface  BCI single neuron stim   \n",
       "\n",
       "                                    _id  \\\n",
       "0  03f1b82e-4494-46bc-a959-50c4b14d13da   \n",
       "1  b28d6321-1b1b-4110-87fb-0e19325c1dfe   \n",
       "2  580448b2-4b93-4477-b6ac-6e2972792fe0   \n",
       "3  c1be8449-7bef-4967-88f5-6a6ffc29e5a3   \n",
       "4  15b395c0-1caf-4be4-a212-a13b9a4d1dfc   \n",
       "\n",
       "                                                name  subject_id  \\\n",
       "0  single-plane-ophys_731015_2025-01-28_17-40-57_...      731015   \n",
       "1  single-plane-ophys_767715_2025-02-17_17-41-50_...      767715   \n",
       "2  single-plane-ophys_772414_2025-01-27_15-57-05_...      772414   \n",
       "3  single-plane-ophys_772414_2025-02-06_16-47-44_...      772414   \n",
       "4  single-plane-ophys_772414_2025-02-10_11-15-26_...      772414   \n",
       "\n",
       "                                            genotype  \\\n",
       "0  Slc17a6-IRES-Cre/wt;Ai230(TIT2L-XCaMPG-WPRE-IC...   \n",
       "1  Slc17a6-IRES-Cre/wt;Ai230(TIT2L-XCaMPG-WPRE-IC...   \n",
       "2                      Camk2a-tTA/wt;tetO-GCaMP6s/wt   \n",
       "3                      Camk2a-tTA/wt;tetO-GCaMP6s/wt   \n",
       "4                      Camk2a-tTA/wt;tetO-GCaMP6s/wt   \n",
       "\n",
       "                                             virus date_of_birth     sex  \\\n",
       "0                   pAAV-hSyn1-RiboL1-GCaMP8s-WPRE    2024-03-14  Female   \n",
       "1                   pAAV-hSyn1-RiboL1-GCaMP8s-WPRE    2024-09-15  Female   \n",
       "2  pAAV-CaMKIIa-ChRmine-oScarlet-Kv2.1-WPRE - 7413    2024-10-15  Female   \n",
       "3  pAAV-CaMKIIa-ChRmine-oScarlet-Kv2.1-WPRE - 7413    2024-10-15  Female   \n",
       "4  pAAV-CaMKIIa-ChRmine-oScarlet-Kv2.1-WPRE - 7413    2024-10-15  Female   \n",
       "\n",
       "                    modality session_date  age     session_time  \\\n",
       "0  Planar optical physiology   2025-01-28  320  17:40:57.996000   \n",
       "1  Planar optical physiology   2025-02-17  155  17:41:50.758000   \n",
       "2  Planar optical physiology   2025-01-27  104  14:23:26.693000   \n",
       "3  Planar optical physiology   2025-02-06  114  16:47:44.152999   \n",
       "4  Planar optical physiology   2025-02-10  118  11:15:26.609999   \n",
       "\n",
       "     targeted_structure ophys_fov  session_number  \n",
       "0  Primary Motor Cortex    FOV_04            22.0  \n",
       "1  Primary Motor Cortex    FOV_03             8.0  \n",
       "2  Primary Motor Cortex    FOV_01             5.0  \n",
       "3  Primary Motor Cortex    FOV_02            13.0  \n",
       "4  Primary Motor Cortex    FOV_03            14.0  "
      ]
     },
     "execution_count": 7,
     "metadata": {},
     "output_type": "execute_result"
    }
   ],
   "source": [
    "metadata = pd.read_csv(os.path.join(data_dir, 'bci_task_metadata', 'bci_metadata.csv'))\n",
    "metadata.head()"
   ]
  },
  {
   "cell_type": "code",
   "execution_count": 8,
   "id": "000ba4cf",
   "metadata": {},
   "outputs": [
    {
     "data": {
      "text/plain": [
       "Index(['project_name', 'session_type', '_id', 'name', 'subject_id', 'genotype',\n",
       "       'virus', 'date_of_birth', 'sex', 'modality', 'session_date', 'age',\n",
       "       'session_time', 'targeted_structure', 'ophys_fov', 'session_number'],\n",
       "      dtype='object')"
      ]
     },
     "execution_count": 8,
     "metadata": {},
     "output_type": "execute_result"
    }
   ],
   "source": [
    "metadata.columns"
   ]
  },
  {
   "cell_type": "code",
   "execution_count": 10,
   "id": "dac6950b-fd69-497d-a91f-638b94f13a72",
   "metadata": {
    "tags": []
   },
   "outputs": [
    {
     "data": {
      "text/plain": [
       "array(['17:40:57.996000', '17:41:50.758000', '14:23:26.693000',\n",
       "       '16:47:44.152999', '11:15:26.609999', '20:37:19.623000',\n",
       "       '16:01:04.455000', '16:02:50.863999', '20:08:49.286000',\n",
       "       '18:44:54.865000', '19:18:31.580999', '17:33:11.691000',\n",
       "       '19:26:59.000999', '16:59:35.618000', '18:46:54.109999',\n",
       "       '18:36:30.521000', '16:07:41.655000', '15:13:50.595999',\n",
       "       '15:24:22.163000', '15:36:39.563000', '16:53:55.722000',\n",
       "       '17:02:50.868000', '18:15:21.158999', '17:30:05.458999',\n",
       "       '13:21:29.644999', '16:46:51.981999', '18:53:03.001999',\n",
       "       '18:41:22.550000', '18:59:24.815999', '16:04:20.109000',\n",
       "       '16:44:36.189000'], dtype=object)"
      ]
     },
     "execution_count": 10,
     "metadata": {},
     "output_type": "execute_result"
    }
   ],
   "source": [
    "metadata.session_time.unique()"
   ]
  },
  {
   "cell_type": "code",
   "execution_count": 11,
   "id": "3b2bf089-7594-4b82-a132-5bc8593eacbe",
   "metadata": {
    "tags": []
   },
   "outputs": [
    {
     "name": "stdout",
     "output_type": "stream",
     "text": [
      "['17:40' '17:41' '14:23' '16:47' '11:15' '20:37' '16:01' '16:02' '20:08'\n",
      " '18:44' '19:18' '17:33' '19:26' '16:59' '18:46' '18:36' '16:07' '15:13'\n",
      " '15:24' '15:36' '16:53' '17:02' '18:15' '17:30' '13:21' '16:46' '18:53'\n",
      " '18:41' '18:59' '16:04' '16:44']\n"
     ]
    },
    {
     "name": "stderr",
     "output_type": "stream",
     "text": [
      "/tmp/ipykernel_196/376442925.py:4: UserWarning: Could not infer format, so each element will be parsed individually, falling back to `dateutil`. To ensure parsing is consistent and as-expected, please specify a format.\n",
      "  metadata['session_time'] = pd.to_datetime(metadata['session_time']).dt.strftime('%H:%M')\n"
     ]
    }
   ],
   "source": [
    "import pandas as pd\n",
    "\n",
    "# Convertir a datetime y extraer solo hora:minuto\n",
    "metadata['session_time'] = pd.to_datetime(metadata['session_time']).dt.strftime('%H:%M')\n",
    "\n",
    "# Verificar\n",
    "print(metadata['session_time'].unique())"
   ]
  },
  {
   "cell_type": "code",
   "execution_count": 16,
   "id": "2d4c3918-a876-4114-8c75-875caca0e2d0",
   "metadata": {
    "tags": []
   },
   "outputs": [
    {
     "data": {
      "image/png": "[encoded data removed]",
      "text/plain": [
       "<Figure size 1200x600 with 1 Axes>"
      ]
     },
     "metadata": {},
     "output_type": "display_data"
    }
   ],
   "source": [
    "# Convertimos session_time a minutos desde medianoche\n",
    "metadata['time_minutes'] = metadata['session_time'].str.split(':').apply(lambda x: int(x[0])*60 + int(x[1]))\n",
    "\n",
    "# Ordenamos por subject_id y session_date\n",
    "metadata_sorted = metadata.sort_values(['subject_id', 'session_date'])\n",
    "\n",
    "# Crear un mapping de subject_id a posición uniforme\n",
    "unique_subjects = sorted(metadata_sorted['subject_id'].unique())\n",
    "subject_to_idx = {subj: idx for idx, subj in enumerate(unique_subjects)}\n",
    "\n",
    "# Asignar índice a cada fila\n",
    "metadata_sorted['subject_idx'] = metadata_sorted['subject_id'].map(subject_to_idx)\n",
    "\n",
    "# Crear el plot\n",
    "plt.figure(figsize=(12, 6))\n",
    "\n",
    "for subj, group in metadata_sorted.groupby('subject_idx'):\n",
    "    plt.scatter(group['time_minutes'], [subj]*len(group), s=50)\n",
    "\n",
    "plt.yticks(range(len(unique_subjects)), unique_subjects)  # Etiquetas con los subject_id\n",
    "plt.xlim(11*60, 21*60)  # Limitar entre 11:00 (660) y 21:00 (1260)\n",
    "plt.xticks(range(11*60, 21*60+1, 60), [f\"{h:02d}:00\" for h in range(11, 22)])\n",
    "plt.xlabel('Hora del día')\n",
    "plt.ylabel('Subject ID')\n",
    "plt.title('Horario de sesión por subject_id (11:00 - 21:00)')\n",
    "plt.grid(axis='x', linestyle='--', alpha=0.5)\n",
    "plt.tight_layout()\n",
    "plt.show()"
   ]
  },
  {
   "cell_type": "code",
   "execution_count": null,
   "id": "a27366d8-a1d9-4794-8832-345825b08542",
   "metadata": {},
   "outputs": [],
   "source": []
  }
 ],
 "metadata": {
  "kernelspec": {
   "display_name": "Python 3 (ipykernel)",
   "language": "python",
   "name": "python3"
  },
  "language_info": {
   "codemirror_mode": {
    "name": "ipython",
    "version": 3
   },
   "file_extension": ".py",
   "mimetype": "text/x-python",
   "name": "python",
   "nbconvert_exporter": "python",
   "pygments_lexer": "ipython3",
   "version": "3.10.12"
  }
 },
 "nbformat": 4,
 "nbformat_minor": 5
}
